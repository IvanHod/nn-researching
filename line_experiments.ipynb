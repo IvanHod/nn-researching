{
 "cells": [
  {
   "cell_type": "code",
   "execution_count": 2,
   "id": "27356665",
   "metadata": {},
   "outputs": [],
   "source": [
    "import json\n",
    "import os\n",
    "import pickle\n",
    "import shutil\n",
    "\n",
    "import matplotlib.pyplot as plt\n",
    "import numpy as np\n",
    "from cv2 import cv2\n",
    "from skimage import color, draw, util\n",
    "\n",
    "from smurves import surgebinder  # Генерация линий\n",
    "\n",
    "from skimage import io\n",
    "from sklearn.preprocessing import MinMaxScaler\n",
    "\n",
    "from keras_preprocessing.image import ImageDataGenerator\n",
    "from tensorflow.keras import callbacks\n",
    "from tensorflow.python.keras import Sequential, layers, metrics\n",
    "import tensorflow.python.keras.backend as K\n",
    "from tensorflow.python.keras.preprocessing.image import DirectoryIterator"
   ]
  },
  {
   "cell_type": "markdown",
   "id": "36c07bc0",
   "metadata": {},
   "source": [
    "# Генерация данных (генерация линий)"
   ]
  },
  {
   "cell_type": "code",
   "execution_count": 3,
   "id": "f199a708",
   "metadata": {},
   "outputs": [],
   "source": [
    "IMG_SIZE = 100"
   ]
  },
  {
   "cell_type": "code",
   "execution_count": 333,
   "id": "1595bb18",
   "metadata": {},
   "outputs": [],
   "source": [
    "def get_sin(row_range):\n",
    "    sin_periods = [30, 20, 10, 6]\n",
    "    \n",
    "    magnitude = np.random.randint(10, 30)\n",
    "    rad = np.random.choice(sin_periods)\n",
    "    \n",
    "    values = np.sin(row_range / rad) * magnitude + magnitude\n",
    "    return values.astype('uint8')\n",
    "\n",
    "def gen_background(size, config: dict):\n",
    "    img = np.zeros((size, size), dtype='uint8') + 255\n",
    "    row_range = np.arange(size)\n",
    "    \n",
    "    if config.get('simple', False):\n",
    "        return img\n",
    "\n",
    "    if config.get('sin_v', True):\n",
    "        for i in range(np.random.randint(0, 3)):\n",
    "            img -= get_sin(row_range)\n",
    "    \n",
    "    if config.get('sin_h', True):\n",
    "        for i in range(np.random.randint(0, 3)):\n",
    "            img -= get_sin(row_range).reshape((size, 1))\n",
    "    \n",
    "    if config.get('noize', True) and np.random.rand() > 0.5:\n",
    "            img_noize = img.astype('float32') + (np.random.random((size, size)) - 0.5) * 20\n",
    "            img = np.clip(img_noize, 0, 255).astype('uint8')\n",
    "    \n",
    "    return img\n",
    "\n",
    "def _get_curve(size, config: dict):\n",
    "    x_start, y_start = np.random.randint(0, 60, 2)\n",
    "    x_end = np.random.randint(x_start + 10, size, 1)\n",
    "    y_end = np.random.randint(y_start + 10, size, 1)\n",
    "    if config.get('type', 'curve') == 'curve':\n",
    "        curves = surgebinder(n_curves = 1,\n",
    "             x_interval = [float(x_start), float(x_end)],\n",
    "             y_interval = [float(y_start), float(y_end)],\n",
    "             n_measure = 100,\n",
    "             direction_maximum = np.random.randint(1, 8),\n",
    "             convergence_point = None,  # [0.001, 1.0],\n",
    "             log_scale = False,\n",
    "    #          change_range = [0.2, 0.8],\n",
    "             start_force = None  # 0.01\n",
    "            )\n",
    "    else:\n",
    "        x_list = np.repeat([x_start], y_end - y_start)\n",
    "        y_list = np.arange(y_start, y_end)\n",
    "        curves = [\n",
    "            np.vstack((y_list, x_list)).T\n",
    "        ]\n",
    "    curve = np.unique(curves[0].astype('int32'), axis=0)\n",
    "    return curve\n",
    "\n",
    "def gen_img(size, config: dict):\n",
    "    img = gen_background(size, config=config.get('background', {}))\n",
    "    \n",
    "    curve = _get_curve(size, config=config.get('curve', {}))\n",
    "    img[curve[:, 0], curve[:, 1]] = np.random.randint(50, 150, curve.shape[0])\n",
    "    \n",
    "    return img, curve"
   ]
  },
  {
   "cell_type": "code",
   "execution_count": 334,
   "id": "f9eb0cc6",
   "metadata": {},
   "outputs": [
    {
     "data": {
      "text/plain": [
       "<matplotlib.image.AxesImage at 0x1e89e465b38>"
      ]
     },
     "execution_count": 334,
     "metadata": {},
     "output_type": "execute_result"
    },
    {
     "data": {
      "image/png": "[encoded data removed]",
      "text/plain": [
       "<Figure size 432x288 with 1 Axes>"
      ]
     },
     "metadata": {
      "needs_background": "light"
     },
     "output_type": "display_data"
    }
   ],
   "source": [
    "# img, _ = gen_img(100, config={'background': {'simple': True}, 'curve': {'type': 'curve'}})\n",
    "img, _ = gen_img(100, config={'background': {'simple': True}, 'curve': {'type': 'line'}})\n",
    "plt.imshow(img, cmap='gray')"
   ]
  },
  {
   "cell_type": "code",
   "execution_count": 311,
   "id": "0ba5ee55",
   "metadata": {},
   "outputs": [],
   "source": [
    "DATASET_FOLDER = 'data/lines_vertical'"
   ]
  },
  {
   "cell_type": "code",
   "execution_count": null,
   "id": "0e5d30b6",
   "metadata": {
    "scrolled": true
   },
   "outputs": [],
   "source": [
    "def update_dir(dir_name):\n",
    "    if os.path.exists(dir_name):\n",
    "        shutil.rmtree(dir_name)\n",
    "    \n",
    "    os.makedirs(dir_name)\n",
    "    return dir_name\n",
    "\n",
    "def update_labels(index_new, label_new: dict, path='', to_remove=False):\n",
    "    assert path, 'path is empty'\n",
    "    try:\n",
    "        with open(path, 'rb') as f:\n",
    "            data: dict = pickle.load(f)\n",
    "    except:\n",
    "        data = {}\n",
    "\n",
    "    if to_remove:\n",
    "        data = {}\n",
    "    \n",
    "    if label_new is not None:\n",
    "        data[index_new] = label_new\n",
    "        with open(path, 'wb') as f:\n",
    "            pickle.dump(data, f)\n",
    "\n",
    "def gen_images(n_count=4000):\n",
    "    folder = DATASET_FOLDER\n",
    "    path_label = f'{folder}/labels.pkl'\n",
    "    train_dir = update_dir(f'{folder}/train/0')\n",
    "    valid_dir = update_dir(f'{folder}/validation/0')\n",
    "    test_dir  = update_dir(f'{folder}/test/0')\n",
    "    \n",
    "    update_labels(None, None, path=path_label, to_remove=True)  # remove exist labels\n",
    "    \n",
    "    for i in range(n_count):\n",
    "        if i > 0 and i % 500 == 0:\n",
    "            print(f'Iteration: {i}')\n",
    "\n",
    "        img, curve = gen_img(size=IMG_SIZE, config={'background': {'simple': True}, 'curve': {'type': 'line'}})\n",
    "        \n",
    "        rand_num = np.random.rand()\n",
    "        if rand_num < 0.5:\n",
    "            img_path = f'{train_dir}/{i}.png'\n",
    "        elif rand_num < 0.8:\n",
    "            img_path = f'{valid_dir}/{i}.png'\n",
    "        else:\n",
    "            img_path = f'{test_dir}/{i}.png'\n",
    "        \n",
    "        update_labels(i, curve, path=path_label)\n",
    "        plt.imsave(img_path, img, cmap=plt.cm.gray)"
   ]
  },
  {
   "cell_type": "code",
   "execution_count": 335,
   "id": "0d997803",
   "metadata": {},
   "outputs": [],
   "source": [
    "gen_images(n_count=5000)"
   ]
  },
  {
   "cell_type": "markdown",
   "id": "15fad297",
   "metadata": {},
   "source": [
    "# Создание модели"
   ]
  },
  {
   "cell_type": "code",
   "execution_count": 336,
   "id": "e80ffa09",
   "metadata": {},
   "outputs": [],
   "source": [
    "BATCH_SIZE = 8\n",
    "CLASS_MODE = 'input'\n",
    "TARGET_SIZE = 100"
   ]
  },
  {
   "cell_type": "code",
   "execution_count": 337,
   "id": "c602060d",
   "metadata": {},
   "outputs": [],
   "source": [
    "desc = {}\n",
    "def get_desc(file_name: str):\n",
    "    global desc\n",
    "    \n",
    "    img_number = int(file_name[:-4].rsplit('\\\\')[-1])\n",
    "\n",
    "    if not desc:\n",
    "        with open(f'{DATASET_FOLDER}/labels.pkl', 'rb') as f:\n",
    "            desc = pickle.load(f)\n",
    "\n",
    "    return desc[img_number]"
   ]
  },
  {
   "cell_type": "code",
   "execution_count": 338,
   "id": "600f41c1",
   "metadata": {},
   "outputs": [],
   "source": [
    "class PicturesIterator(DirectoryIterator):\n",
    "    def __init__(self, directory, generator, *args, **kwargs):\n",
    "        target_size = kwargs.get('target_size', TARGET_SIZE)\n",
    "        super(PicturesIterator, self).__init__(directory, generator, *args,\n",
    "                                               target_size=(target_size, target_size),\n",
    "                                               class_mode=CLASS_MODE,\n",
    "                                               color_mode='grayscale',\n",
    "                                               batch_size=BATCH_SIZE,\n",
    "                                               **kwargs)\n",
    "\n",
    "    def _get_batches_of_transformed_samples(self, index_array):\n",
    "        train, test = super(PicturesIterator, self)._get_batches_of_transformed_samples(index_array)\n",
    "        test[:, :, :, 0] = 0\n",
    "\n",
    "        for i, index in enumerate(index_array):\n",
    "            curve = get_desc(file_name=self.filenames[index])\n",
    "\n",
    "            test[i, curve[:, 0], curve[:, 1]] = 1\n",
    "\n",
    "        return train, test"
   ]
  },
  {
   "cell_type": "code",
   "execution_count": 339,
   "id": "c72338a4",
   "metadata": {},
   "outputs": [],
   "source": [
    "def prepare_data(folder=DATASET_FOLDER):\n",
    "    datagen_tr = ImageDataGenerator(rescale=1. / 255, horizontal_flip=False)\n",
    "    datagen_test = ImageDataGenerator(rescale=1. / 255)\n",
    "\n",
    "    # load and iterate training dataset\n",
    "    train_it = PicturesIterator(f'{folder}/train', datagen_tr)\n",
    "\n",
    "    # load and iterate validation dataset\n",
    "    val_it = PicturesIterator(f'{folder}/validation', datagen_test)\n",
    "\n",
    "    # load and iterate test dataset\n",
    "    test_it = PicturesIterator(f'{folder}/test', datagen_test)\n",
    "\n",
    "    return train_it, val_it, test_it"
   ]
  },
  {
   "cell_type": "code",
   "execution_count": 349,
   "id": "084e7fad",
   "metadata": {},
   "outputs": [
    {
     "name": "stdout",
     "output_type": "stream",
     "text": [
      "Found 2471 images belonging to 1 classes.\n",
      "Found 1473 images belonging to 1 classes.\n",
      "Found 1056 images belonging to 1 classes.\n"
     ]
    },
    {
     "data": {
      "image/png": "[encoded data removed]",
      "text/plain": [
       "<Figure size 432x288 with 2 Axes>"
      ]
     },
     "metadata": {
      "needs_background": "light"
     },
     "output_type": "display_data"
    }
   ],
   "source": [
    "data = prepare_data(folder=DATASET_FOLDER)\n",
    "tmp = next(data[1])\n",
    "\n",
    "_, axes = plt.subplots(1, 2)\n",
    "axes[0].imshow(tmp[0][0].reshape((100, 100)), cmap='gray')\n",
    "axes[1].imshow(tmp[1][0].reshape((100, 100)), cmap='gray')\n",
    "plt.show()"
   ]
  },
  {
   "cell_type": "markdown",
   "id": "533aa0b4",
   "metadata": {},
   "source": [
    "Как результат:\n",
    "- 1 слой не тянет от слова совсем\n",
    "- 2 слоя прекрасно спраляются с работой (32 (3x3), 32 (3x3) но с разводами"
   ]
  },
  {
   "cell_type": "code",
   "execution_count": 437,
   "id": "7318bf82",
   "metadata": {},
   "outputs": [],
   "source": [
    "checkpoint_path = 'training/cp_{}.ckpt'.format(DATASET_FOLDER.split('/')[-1])\n",
    "\n",
    "def define_model(print_summary=False, load_weights=False):\n",
    "    model = Sequential()\n",
    "    model.add(layers.Conv2D(filters=1, kernel_size=(3, 3), padding='same', activation='relu'))\n",
    "#     model.add(layers.Conv2D(64, (5, 5), padding='same', activation='relu'))\n",
    "#     model.add(layers.Conv2D(128, (3, 3), padding='same', activation='relu'))\n",
    "#     model.add(layers.Conv2D(1, (3, 3), padding='same', activation='relu'))   # Output\n",
    "    model.add(layers.Dense(1, activation='relu'))\n",
    "\n",
    "    model.build(input_shape=(BATCH_SIZE, TARGET_SIZE, TARGET_SIZE, 1))\n",
    "\n",
    "    if print_summary:\n",
    "        model.summary()\n",
    "\n",
    "#     metrics for visual analysis\n",
    "    model.compile(loss=K.binary_crossentropy, optimizer='adam')\n",
    "\n",
    "    if load_weights:\n",
    "        model.load_weights(checkpoint_path)\n",
    "\n",
    "    return model\n",
    "\n",
    "def fit_model(model, data, epochs=5):\n",
    "    train_it, val_it, test_it = data\n",
    "\n",
    "    cp_callback = callbacks.ModelCheckpoint(filepath=checkpoint_path,\n",
    "                                            save_weights_only=True,\n",
    "                                            verbose=1)\n",
    "\n",
    "    history = model.fit(train_it, epochs=epochs, validation_data=val_it,\n",
    "                        callbacks=[cp_callback])\n",
    "\n",
    "#     loss = model.evaluate(test_it, steps=24)\n",
    "    return history"
   ]
  },
  {
   "cell_type": "code",
   "execution_count": 438,
   "id": "637ab506",
   "metadata": {},
   "outputs": [
    {
     "name": "stdout",
     "output_type": "stream",
     "text": [
      "Model: \"sequential_19\"\n",
      "_________________________________________________________________\n",
      "Layer (type)                 Output Shape              Param #   \n",
      "=================================================================\n",
      "conv2d_28 (Conv2D)           (8, 100, 100, 1)          10        \n",
      "_________________________________________________________________\n",
      "dense_7 (Dense)              (8, 100, 100, 1)          2         \n",
      "=================================================================\n",
      "Total params: 12\n",
      "Trainable params: 12\n",
      "Non-trainable params: 0\n",
      "_________________________________________________________________\n"
     ]
    },
    {
     "data": {
      "text/plain": [
       "<tensorflow.python.keras.engine.sequential.Sequential at 0x1e89cb8eda0>"
      ]
     },
     "execution_count": 438,
     "metadata": {},
     "output_type": "execute_result"
    }
   ],
   "source": [
    "define_model(load_weights=False, print_summary=True)"
   ]
  },
  {
   "cell_type": "code",
   "execution_count": 390,
   "id": "0d2b40b5",
   "metadata": {},
   "outputs": [
    {
     "name": "stdout",
     "output_type": "stream",
     "text": [
      "Found 2471 images belonging to 1 classes.\n",
      "Found 1473 images belonging to 1 classes.\n",
      "Found 1056 images belonging to 1 classes.\n"
     ]
    }
   ],
   "source": [
    "data = prepare_data(folder=DATASET_FOLDER)"
   ]
  },
  {
   "cell_type": "code",
   "execution_count": 391,
   "id": "266e218a",
   "metadata": {
    "scrolled": true
   },
   "outputs": [
    {
     "name": "stdout",
     "output_type": "stream",
     "text": [
      "Model: \"sequential_14\"\n",
      "_________________________________________________________________\n",
      "Layer (type)                 Output Shape              Param #   \n",
      "=================================================================\n",
      "conv2d_24 (Conv2D)           (8, 100, 100, 16)         160       \n",
      "_________________________________________________________________\n",
      "dense_4 (Dense)              (8, 100, 100, 1)          17        \n",
      "=================================================================\n",
      "Total params: 177\n",
      "Trainable params: 177\n",
      "Non-trainable params: 0\n",
      "_________________________________________________________________\n",
      "Epoch 1/10\n",
      "WARNING:tensorflow:AutoGraph could not transform <function Model.make_train_function.<locals>.train_function at 0x000001E89E0141E0> and will run it as-is.\n",
      "Please report this to the TensorFlow team. When filing the bug, set the verbosity to 10 (on Linux, `export AUTOGRAPH_VERBOSITY=10`) and attach the full output.\n",
      "Cause: 'arguments' object has no attribute 'posonlyargs'\n",
      "To silence this warning, decorate the function with @tf.autograph.experimental.do_not_convert\n",
      "WARNING: AutoGraph could not transform <function Model.make_train_function.<locals>.train_function at 0x000001E89E0141E0> and will run it as-is.\n",
      "Please report this to the TensorFlow team. When filing the bug, set the verbosity to 10 (on Linux, `export AUTOGRAPH_VERBOSITY=10`) and attach the full output.\n",
      "Cause: 'arguments' object has no attribute 'posonlyargs'\n",
      "To silence this warning, decorate the function with @tf.autograph.experimental.do_not_convert\n",
      "304/309 [============================>.] - ETA: 0s - loss: 0.0124WARNING:tensorflow:AutoGraph could not transform <function Model.make_test_function.<locals>.test_function at 0x000001E89BFC90D0> and will run it as-is.\n",
      "Please report this to the TensorFlow team. When filing the bug, set the verbosity to 10 (on Linux, `export AUTOGRAPH_VERBOSITY=10`) and attach the full output.\n",
      "Cause: 'arguments' object has no attribute 'posonlyargs'\n",
      "To silence this warning, decorate the function with @tf.autograph.experimental.do_not_convert\n",
      "WARNING: AutoGraph could not transform <function Model.make_test_function.<locals>.test_function at 0x000001E89BFC90D0> and will run it as-is.\n",
      "Please report this to the TensorFlow team. When filing the bug, set the verbosity to 10 (on Linux, `export AUTOGRAPH_VERBOSITY=10`) and attach the full output.\n",
      "Cause: 'arguments' object has no attribute 'posonlyargs'\n",
      "To silence this warning, decorate the function with @tf.autograph.experimental.do_not_convert\n",
      "309/309 [==============================] - 3s 10ms/step - loss: 0.0123 - val_loss: 0.0051\n",
      "\n",
      "Epoch 00001: saving model to training\\cp_lines_vertical.ckpt\n",
      "Epoch 2/10\n",
      "309/309 [==============================] - 3s 9ms/step - loss: 0.0038 - val_loss: 0.0022\n",
      "\n",
      "Epoch 00002: saving model to training\\cp_lines_vertical.ckpt\n",
      "Epoch 3/10\n",
      "309/309 [==============================] - 3s 9ms/step - loss: 0.0020 - val_loss: 0.0019\n",
      "\n",
      "Epoch 00003: saving model to training\\cp_lines_vertical.ckpt\n",
      "Epoch 4/10\n",
      "309/309 [==============================] - 3s 9ms/step - loss: 0.0013 - val_loss: 5.1500e-04\n",
      "\n",
      "Epoch 00004: saving model to training\\cp_lines_vertical.ckpt\n",
      "Epoch 5/10\n",
      "309/309 [==============================] - 3s 9ms/step - loss: 4.5469e-04 - val_loss: 4.6690e-04\n",
      "\n",
      "Epoch 00005: saving model to training\\cp_lines_vertical.ckpt\n",
      "Epoch 6/10\n",
      "309/309 [==============================] - 3s 9ms/step - loss: 2.7831e-04 - val_loss: 1.4186e-04\n",
      "\n",
      "Epoch 00006: saving model to training\\cp_lines_vertical.ckpt\n",
      "Epoch 7/10\n",
      "309/309 [==============================] - 3s 9ms/step - loss: 1.4031e-04 - val_loss: 1.3020e-04\n",
      "\n",
      "Epoch 00007: saving model to training\\cp_lines_vertical.ckpt\n",
      "Epoch 8/10\n",
      "309/309 [==============================] - 3s 9ms/step - loss: 1.3160e-04 - val_loss: 1.2627e-04\n",
      "\n",
      "Epoch 00008: saving model to training\\cp_lines_vertical.ckpt\n",
      "Epoch 9/10\n",
      "309/309 [==============================] - 3s 9ms/step - loss: 1.2848e-04 - val_loss: 1.2267e-04\n",
      "\n",
      "Epoch 00009: saving model to training\\cp_lines_vertical.ckpt\n",
      "Epoch 10/10\n",
      "309/309 [==============================] - 3s 9ms/step - loss: 1.2060e-04 - val_loss: 1.1859e-04\n",
      "\n",
      "Epoch 00010: saving model to training\\cp_lines_vertical.ckpt\n"
     ]
    }
   ],
   "source": [
    "model = define_model(load_weights=False, print_summary=True)\n",
    "history = fit_model(model, data, epochs=10)"
   ]
  },
  {
   "cell_type": "code",
   "execution_count": null,
   "id": "8bcad76c",
   "metadata": {},
   "outputs": [],
   "source": [
    "# model = define_model(load_weights=True)"
   ]
  },
  {
   "cell_type": "code",
   "execution_count": 392,
   "id": "8606d699",
   "metadata": {},
   "outputs": [
    {
     "data": {
      "image/png": "[encoded data removed]",
      "text/plain": [
       "<Figure size 432x288 with 1 Axes>"
      ]
     },
     "metadata": {
      "needs_background": "light"
     },
     "output_type": "display_data"
    }
   ],
   "source": [
    "loss_train = history.history['loss']\n",
    "loss_val = history.history['val_loss']\n",
    "epochs = range(1, len(loss_train) + 1)\n",
    "plt.plot(epochs, loss_train, '.-g', label='Training loss')\n",
    "plt.plot(epochs, loss_val, '.-b', label='validation loss')\n",
    "plt.title('Training and Validation loss')\n",
    "plt.xlabel('Epochs')\n",
    "plt.ylabel('Loss')\n",
    "plt.legend()\n",
    "plt.show()"
   ]
  },
  {
   "cell_type": "code",
   "execution_count": 393,
   "id": "1bde65c9",
   "metadata": {
    "scrolled": true
   },
   "outputs": [
    {
     "name": "stdout",
     "output_type": "stream",
     "text": [
      "WARNING:tensorflow:AutoGraph could not transform <function Model.make_predict_function.<locals>.predict_function at 0x000001E89C632AE8> and will run it as-is.\n",
      "Please report this to the TensorFlow team. When filing the bug, set the verbosity to 10 (on Linux, `export AUTOGRAPH_VERBOSITY=10`) and attach the full output.\n",
      "Cause: 'arguments' object has no attribute 'posonlyargs'\n",
      "To silence this warning, decorate the function with @tf.autograph.experimental.do_not_convert\n",
      "WARNING: AutoGraph could not transform <function Model.make_predict_function.<locals>.predict_function at 0x000001E89C632AE8> and will run it as-is.\n",
      "Please report this to the TensorFlow team. When filing the bug, set the verbosity to 10 (on Linux, `export AUTOGRAPH_VERBOSITY=10`) and attach the full output.\n",
      "Cause: 'arguments' object has no attribute 'posonlyargs'\n",
      "To silence this warning, decorate the function with @tf.autograph.experimental.do_not_convert\n"
     ]
    }
   ],
   "source": [
    "test_1 = next(data[-1])\n",
    "test_1_prediction = model.predict(test_1[0])"
   ]
  },
  {
   "cell_type": "code",
   "execution_count": 394,
   "id": "61e64643",
   "metadata": {},
   "outputs": [
    {
     "data": {
      "image/png": "[encoded data removed]",
      "text/plain": [
       "<Figure size 864x288 with 2 Axes>"
      ]
     },
     "metadata": {
      "needs_background": "light"
     },
     "output_type": "display_data"
    }
   ],
   "source": [
    "for i in range(len(test_1_prediction)):\n",
    "    img_test_source = test_1[0][i].reshape((100, 100))\n",
    "    img_out = test_1_prediction[i].reshape((100, 100))\n",
    "    \n",
    "    _, axes = plt.subplots(1, 2, figsize=(12, 4))\n",
    "    \n",
    "    axes[0].imshow((img_test_source * 255).astype('uint8'), cmap='gray')\n",
    "    axes[0].set_title(f'source {i}')\n",
    "    \n",
    "    axes[1].imshow((img_out * 255).astype('uint8'), cmap='gray')\n",
    "    axes[1].set_title('prediction')\n",
    "    \n",
    "    plt.show()\n",
    "    break"
   ]
  },
  {
   "cell_type": "code",
   "execution_count": 330,
   "id": "e0f8deac",
   "metadata": {},
   "outputs": [
    {
     "data": {
      "image/png": "[encoded data removed]",
      "text/plain": [
       "<Figure size 864x288 with 2 Axes>"
      ]
     },
     "metadata": {
      "needs_background": "light"
     },
     "output_type": "display_data"
    }
   ],
   "source": [
    "img = np.zeros((100, 100), dtype='uint8') + 255\n",
    "circle = draw.circle_perimeter(35, 60, 30)\n",
    "img[circle] = 0\n",
    "img_out = model.predict(util.img_as_float(img).reshape(1, 100, 100, 1))\n",
    "\n",
    "_, axes = plt.subplots(1, 2, figsize=(12, 4))\n",
    "    \n",
    "axes[0].imshow(img, cmap='gray')\n",
    "axes[0].set_title('source')\n",
    "\n",
    "axes[1].imshow((img_out.reshape((100, 100)) * 255).astype('uint8'), cmap='gray')\n",
    "axes[1].set_title('prediction')\n",
    "plt.show()"
   ]
  },
  {
   "cell_type": "code",
   "execution_count": null,
   "id": "aae335c3",
   "metadata": {},
   "outputs": [],
   "source": []
  },
  {
   "cell_type": "markdown",
   "id": "7162c285",
   "metadata": {},
   "source": [
    "# Анализ весов и причин плохой работы"
   ]
  },
  {
   "cell_type": "code",
   "execution_count": 172,
   "id": "fd500281",
   "metadata": {},
   "outputs": [],
   "source": [
    "def minmax(arr):\n",
    "    min_val = arr.min(axis=None)\n",
    "    return (arr - min_val) / (arr.max(axis=None) - min_val)"
   ]
  },
  {
   "cell_type": "markdown",
   "id": "33ab4453",
   "metadata": {},
   "source": [
    "#### Для одного слоя"
   ]
  },
  {
   "cell_type": "code",
   "execution_count": 331,
   "id": "5499754e",
   "metadata": {},
   "outputs": [
    {
     "name": "stdout",
     "output_type": "stream",
     "text": [
      "first (3, 3, 1, 4)\n",
      "relu1 (4,)\n",
      "out (3, 3, 4, 1)\n",
      "relu3 (1,)\n"
     ]
    }
   ],
   "source": [
    "layer_weight = {}\n",
    "for name, w in zip(['first', 'relu1', 'out', 'relu3'], model.weights):\n",
    "    print(name, w.shape)  # , w.numpy)\n",
    "    layer_weight[name] = w.numpy()\n",
    "# with open('data/weights_{}.pkl'.format(), 'wb') as f:\n",
    "#     pickle.dump(layer_weight, f)"
   ]
  },
  {
   "cell_type": "markdown",
   "id": "83b6a133",
   "metadata": {},
   "source": [
    "#### Для двух слоёв"
   ]
  },
  {
   "cell_type": "code",
   "execution_count": 770,
   "id": "f23c90e2",
   "metadata": {},
   "outputs": [
    {
     "name": "stdout",
     "output_type": "stream",
     "text": [
      "first (3, 3, 1, 32)\n",
      "relu1 (32,)\n",
      "second (5, 5, 32, 64)\n",
      "relu2 (64,)\n",
      "out (3, 3, 64, 128)\n",
      "relu3 (128,)\n"
     ]
    }
   ],
   "source": [
    "layer_weight = {}\n",
    "for name, w in zip(['first', 'relu1', 'second', 'relu2', 'out', 'relu3'], model.weights):\n",
    "    print(name, w.shape)  # , w.numpy)\n",
    "    layer_weight[name] = w.numpy()\n",
    "# with open('data/lines_layers_weights.pkl', 'wb') as f:\n",
    "#     pickle.dump(layer_weight, f)"
   ]
  },
  {
   "cell_type": "markdown",
   "id": "d8246a9d",
   "metadata": {},
   "source": [
    "#### Отображение весов первого слоя"
   ]
  },
  {
   "cell_type": "code",
   "execution_count": 332,
   "id": "980c50a4",
   "metadata": {},
   "outputs": [
    {
     "data": {
      "image/png": "[encoded data removed]",
      "text/plain": [
       "<Figure size 1008x432 with 4 Axes>"
      ]
     },
     "metadata": {
      "needs_background": "light"
     },
     "output_type": "display_data"
    }
   ],
   "source": [
    "w1 = layer_weight['first'].reshape((3, 3, layer_weight['first'].shape[-1]))\n",
    "n_cols = min(w1.shape[-1], 8)\n",
    "n_rows = w1.shape[-1] // n_cols\n",
    "\n",
    "_, axes = plt.subplots(n_rows, n_cols, figsize=(14, 6))\n",
    "if not isinstance(axes[0], (list, np.ndarray)):\n",
    "    axes = [axes]\n",
    "# print(isinstance(axes[0], ()), axes)\n",
    "for i in range(n_rows):\n",
    "    for j in range(n_cols):\n",
    "        w_index = i * n_cols + j\n",
    "#         w_img = MinMaxScaler().fit_transform(w1[:, :, w_index])\n",
    "        w_img = minmax(w1[:, :, w_index])\n",
    "        \n",
    "        axes[i][j].imshow((w_img * 255).astype('uint8'), cmap='gray')\n",
    "        \n",
    "plt.suptitle('Веса первого слоя нейронной сети')\n",
    "plt.tight_layout()\n",
    "plt.show()"
   ]
  },
  {
   "cell_type": "code",
   "execution_count": null,
   "id": "9efc0fcb",
   "metadata": {},
   "outputs": [],
   "source": []
  },
  {
   "cell_type": "code",
   "execution_count": 805,
   "id": "b3e497e0",
   "metadata": {},
   "outputs": [
    {
     "data": {
      "text/plain": [
       "(3, 3, 32)"
      ]
     },
     "execution_count": 805,
     "metadata": {},
     "output_type": "execute_result"
    }
   ],
   "source": [
    "np.multiply(img[0:3, 0:3].reshape((3, 3, 1)), layer_weight['first'].reshape((3, 3, 32))).shape"
   ]
  },
  {
   "cell_type": "code",
   "execution_count": null,
   "id": "b2d609be",
   "metadata": {},
   "outputs": [],
   "source": [
    "def conv_imitation(img: np.ndarray, weights: np.ndarray):\n",
    "    size, window_size = img.shape[0]\n",
    "     = weights.shape[0]\n",
    "    res = img.copy().reshape((size, size, weights.shape[-1]))\n",
    "    for i in range(1, size):\n",
    "        for j in range(1, size):\n",
    "            img_i = img[i-1: i+2, j-1:j+2]\n",
    "#             for i_w in range(weights.shape[-1])\n",
    "            "
   ]
  },
  {
   "cell_type": "code",
   "execution_count": 789,
   "id": "801bb942",
   "metadata": {},
   "outputs": [],
   "source": [
    "img = color.rgb2gray(io.imread('data/lines_noize/train/0/6.png'))"
   ]
  },
  {
   "cell_type": "code",
   "execution_count": 783,
   "id": "f21c7ff1",
   "metadata": {},
   "outputs": [
    {
     "ename": "ValueError",
     "evalue": "operands could not be broadcast together with shapes (100,100,4) (3,3,1,32) ",
     "output_type": "error",
     "traceback": [
      "\u001b[1;31m---------------------------------------------------------------------------\u001b[0m",
      "\u001b[1;31mValueError\u001b[0m                                Traceback (most recent call last)",
      "\u001b[1;32m<ipython-input-783-0245c5174fd7>\u001b[0m in \u001b[0;36m<module>\u001b[1;34m\u001b[0m\n\u001b[1;32m----> 1\u001b[1;33m \u001b[0mimg\u001b[0m \u001b[1;33m/\u001b[0m \u001b[1;36m255.\u001b[0m \u001b[1;33m*\u001b[0m \u001b[0mlayer_weight\u001b[0m\u001b[1;33m[\u001b[0m\u001b[1;34m'first'\u001b[0m\u001b[1;33m]\u001b[0m\u001b[1;33m\u001b[0m\u001b[1;33m\u001b[0m\u001b[0m\n\u001b[0m",
      "\u001b[1;31mValueError\u001b[0m: operands could not be broadcast together with shapes (100,100,4) (3,3,1,32) "
     ]
    }
   ],
   "source": [
    "img / 255. * layer_weight['first']"
   ]
  },
  {
   "cell_type": "code",
   "execution_count": null,
   "id": "187f6657",
   "metadata": {},
   "outputs": [],
   "source": []
  },
  {
   "cell_type": "code",
   "execution_count": null,
   "id": "5b58a2e3",
   "metadata": {},
   "outputs": [],
   "source": []
  },
  {
   "cell_type": "code",
   "execution_count": null,
   "id": "eac5fb27",
   "metadata": {},
   "outputs": [],
   "source": []
  },
  {
   "cell_type": "code",
   "execution_count": null,
   "id": "f3555838",
   "metadata": {},
   "outputs": [],
   "source": []
  },
  {
   "cell_type": "code",
   "execution_count": null,
   "id": "d383767e",
   "metadata": {},
   "outputs": [],
   "source": []
  },
  {
   "cell_type": "code",
   "execution_count": null,
   "id": "64c65e60",
   "metadata": {},
   "outputs": [],
   "source": []
  },
  {
   "cell_type": "code",
   "execution_count": 427,
   "id": "466c2e31",
   "metadata": {},
   "outputs": [],
   "source": [
    "output = np.array([\n",
    "    [0, 1, 0],\n",
    "    [0, 0.9, 0],\n",
    "    [0, 1, 0],\n",
    "], dtype='float32')\n",
    "\n",
    "target = np.array([\n",
    "    [0, 1, 0],\n",
    "    [0, 1, 0],\n",
    "    [0, 1, 0],\n",
    "], dtype='float32')"
   ]
  },
  {
   "cell_type": "code",
   "execution_count": 428,
   "id": "6b92f24e",
   "metadata": {},
   "outputs": [
    {
     "data": {
      "text/plain": [
       "<tf.Tensor: shape=(3, 3), dtype=float32, numpy=\n",
       "array([[ 0.       ,  0.       ,  0.       ],\n",
       "       [ 0.       ,  0.1053604,  0.       ],\n",
       "       [ 0.       ,  0.       , -0.       ]], dtype=float32)>"
      ]
     },
     "execution_count": 428,
     "metadata": {},
     "output_type": "execute_result"
    }
   ],
   "source": [
    "K.binary_crossentropy(target, output)"
   ]
  },
  {
   "cell_type": "code",
   "execution_count": null,
   "id": "23a19e02",
   "metadata": {},
   "outputs": [],
   "source": []
  }
 ],
 "metadata": {
  "kernelspec": {
   "display_name": "Python 3",
   "language": "python",
   "name": "python3"
  },
  "language_info": {
   "codemirror_mode": {
    "name": "ipython",
    "version": 3
   },
   "file_extension": ".py",
   "mimetype": "text/x-python",
   "name": "python",
   "nbconvert_exporter": "python",
   "pygments_lexer": "ipython3",
   "version": "3.7.3"
  }
 },
 "nbformat": 4,
 "nbformat_minor": 5
}
