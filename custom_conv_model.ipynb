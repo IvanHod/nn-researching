{
 "cells": [
  {
   "cell_type": "code",
   "execution_count": 1,
   "id": "db9373af",
   "metadata": {},
   "outputs": [],
   "source": [
    "import numpy as np\n",
    "import pandas as pd\n",
    "import matplotlib.pyplot as plt\n",
    "from sklearn.manifold import TSNE\n"
   ]
  },
  {
   "cell_type": "code",
   "execution_count": 2,
   "id": "0f2acfb5",
   "metadata": {},
   "outputs": [],
   "source": [
    "def entropy(y, y_):\n",
    "    return -(y * np.log(y_) + (1 - y) * np.log(1 - y_)).mean()\n",
    "\n",
    "def entropy_derivative(y, y_):\n",
    "    # -((y / _o) + (y - 1) / (_o - 1))\n",
    "    return -((y / y_) + (y - 1) / (y_ - 1))\n",
    "\n",
    "def relu(x, threshold=0):\n",
    "    return np.maximum(x, threshold)  # Обрезаем все отрицательные значения (делаем их равными нулю)\n",
    "\n",
    "def relu_derivative(x):\n",
    "    return (x > 0).astype('int')  # 0 или 1. 1 если x больше 0\n",
    "\n",
    "def logit(y):\n",
    "    return np.log(y / (1 - y))\n",
    "\n",
    "def logit_derivative(y):\n",
    "    return 1 / y + 1 / (1 - y)\n",
    "\n",
    "def sigmoid(x):\n",
    "    return 1 / (1 + np.exp(-x))\n",
    "\n",
    "def sigmoid_derivative(x):\n",
    "    #  Производня для сигмойда\n",
    "    sig = sigmoid(x)\n",
    "    return sig * (1 - sig)\n",
    "\n",
    "def mse(y_true, y_predict):\n",
    "    return np.mean((y_true - y_predict) ** 2)"
   ]
  },
  {
   "cell_type": "code",
   "execution_count": 3,
   "id": "99adca2e",
   "metadata": {},
   "outputs": [],
   "source": [
    "class BinaryIterator:\n",
    "    def __init__(self, name, max_count=500, batch_size=1):\n",
    "        self.name = name\n",
    "        self._X = []\n",
    "        self._y = []\n",
    "        self._max_count = max_count\n",
    "        self._batch_size = batch_size\n",
    "        \n",
    "        self.index = 0\n",
    "        \n",
    "        self.debug = False\n",
    "    \n",
    "    def __str__(self):\n",
    "        return f'{self.name} [current index: {self.index}]'\n",
    "    \n",
    "    def __iter__(self):\n",
    "        self.index = 0\n",
    "        return self\n",
    "\n",
    "    def __next__(self):\n",
    "        if self.index >= self._max_count:\n",
    "            raise StopIteration\n",
    "        \n",
    "        cnt = min(self._batch_size, self._max_count - self.index)\n",
    "        self._extend(self.index + cnt - 1)\n",
    "        \n",
    "        self.index += cnt\n",
    "        if self.debug:\n",
    "            print(self.index, cnt)\n",
    "\n",
    "        X = np.array(self._X[self.index - cnt:self.index])\n",
    "        y = np.array(self._y[self.index - cnt:self.index]).reshape((cnt, 1))\n",
    "        return X, y\n",
    "    \n",
    "    def _extend(self, index):\n",
    "        if index >= self._max_count:\n",
    "            raise StopIteration\n",
    "        \n",
    "        if index > len(self._X) - 1:\n",
    "            cnt = index + 1 - len(self._X)\n",
    "            x = np.random.randint(0, 2, 2 * cnt).reshape((cnt, 2))\n",
    "\n",
    "            self._X.extend(x.tolist())\n",
    "            self._y.extend((x[:, 0] ^ x[:, 1]).tolist())\n",
    "    \n",
    "    def __getitem__(self, index):\n",
    "        self._extend(index)\n",
    "        return np.array(self._X[index]).reshape((1, 2)), np.array(self._y[index]).reshape(1, 1)\n",
    "    \n",
    "    def __len__(self):\n",
    "        return self._max_count // self._batch_size\n",
    "    \n",
    "    def drop(self):\n",
    "        self.index = 0\n",
    "    \n",
    "    def on_epoch_end(self):\n",
    "        print('on_epoch_end')\n",
    "        self.drop()"
   ]
  },
  {
   "cell_type": "code",
   "execution_count": 4,
   "id": "3febe76e",
   "metadata": {},
   "outputs": [
    {
     "name": "stdout",
     "output_type": "stream",
     "text": [
      "(array([[0, 1],\n",
      "       [0, 1]]), array([[1],\n",
      "       [1]]))\n"
     ]
    },
    {
     "data": {
      "text/plain": [
       "(array([[0, 0]]), array([[0]]))"
      ]
     },
     "execution_count": 4,
     "metadata": {},
     "output_type": "execute_result"
    }
   ],
   "source": [
    "bi_train = BinaryIterator('Binary train iterator', max_count=5, batch_size=2)\n",
    "# bi_train[2]\n",
    "print(next(bi_train))\n",
    "# bi_train.drop()\n",
    "next(bi_train)\n",
    "next(bi_train)"
   ]
  },
  {
   "cell_type": "markdown",
   "id": "f88325b5",
   "metadata": {},
   "source": [
    "![title](mse_differential.png)"
   ]
  },
  {
   "cell_type": "code",
   "execution_count": 98,
   "id": "5b010b27",
   "metadata": {},
   "outputs": [],
   "source": [
    "class NeuralNetwork:\n",
    "    def __init__(self, loss=None):\n",
    "        self.w1 = np.random.rand(2, 2)\n",
    "        self.w1b = np.random.rand(1, 2)  # bies (np.zeros((1, 3)))\n",
    "        \n",
    "        self.w2 = np.random.rand(2, 1)\n",
    "        \n",
    "        self.l1 = None\n",
    "        \n",
    "        self.loss_func = loss or mse\n",
    "    \n",
    "    @staticmethod\n",
    "    def with_weights(w1, w1b, w2):\n",
    "        nn = NeuralNetwork()\n",
    "        nn.w1 = w1\n",
    "        nn.w1b = w1b\n",
    "        nn.w2 = w2\n",
    "        return nn\n",
    "\n",
    "    def _feedforward(self, X):\n",
    "        self.l1 = relu(np.dot(X, self.w1) + self.w1b)\n",
    "        output = np.dot(self.l1, self.w2)\n",
    "        return output\n",
    "\n",
    "    def _backprop(self, x, y, output):\n",
    "#         coef = np.random.randint(1, 100) / 1000  # 0.005\n",
    "        coef = 0.01\n",
    "        derivative = 2 * (y - output)# * sigmoid_derivative(output)\n",
    "        \n",
    "        # application of the chain rule to find derivative of the loss function with respect to weights2 and weights1\n",
    "        d_w2 = np.dot(\n",
    "            self.l1.T,\n",
    "            derivative\n",
    "        )\n",
    "\n",
    "        d_w1b = np.dot(derivative, self.w2.T) * relu_derivative(self.l1)\n",
    "        d_w1 = np.dot(\n",
    "            x.T,\n",
    "            np.dot(derivative, self.w2.T) * relu_derivative(self.l1)\n",
    "        )\n",
    "\n",
    "        # update the weights with the derivative (slope) of the loss function\n",
    "#         print(d_w2 * coef)\n",
    "        self.w2 += d_w2 * coef\n",
    "        \n",
    "        self.w1 += d_w1 * coef\n",
    "        self.w1b += d_w1b.mean(axis=0) * coef\n",
    "    \n",
    "    def fit(self, iterator, epochs=5, iterator_val=None):\n",
    "        scores = {}\n",
    "        for epoch in range(epochs):\n",
    "            epoch_name = f'Epoch {epoch}'\n",
    "            scores[epoch_name] = []\n",
    "            \n",
    "            for i, (X, y) in enumerate(iterator):\n",
    "#                 print(f'Iteration: {i}')\n",
    "                _o = self._feedforward(X)\n",
    "                self._backprop(X, y, _o)  # update weights\n",
    "                \n",
    "                score = self.loss_func(y, _o)\n",
    "                scores[epoch_name].append(score)\n",
    "                \n",
    "                if np.isnan(score) or np.isinf(score):\n",
    "                    print(y[1, 1], _o[1, 1])\n",
    "                    raise Exception('Score is nan')\n",
    "#                 break\n",
    "            print(f'Score: {np.mean(scores[epoch_name]).round(3)}. ', end='')\n",
    "            \n",
    "            self.evaluate_validation(iterator_val)\n",
    "            iterator.drop()\n",
    "#             iterator.debug = True\n",
    "            print('')\n",
    "        return scores\n",
    "    \n",
    "    def predict(self, X):\n",
    "        return self._feedforward(X)\n",
    "    \n",
    "    def evaluate_validation(self, iterator_val=None):\n",
    "        if iterator_val is not None:\n",
    "            scores = []\n",
    "            for X, y in iterator_val:\n",
    "                y_ = self.predict(X)\n",
    "                scores.append(self.loss_func(y, y_))\n",
    "            iterator_val.drop()\n",
    "            print(f'Val loss: {np.mean(scores).round(3)}. ', end='')"
   ]
  },
  {
   "cell_type": "code",
   "execution_count": 99,
   "id": "60199043",
   "metadata": {
    "scrolled": true
   },
   "outputs": [
    {
     "name": "stdout",
     "output_type": "stream",
     "text": [
      "Score: 0.287. Val loss: 0.252. \n",
      "Score: 0.278. Val loss: 0.247. \n",
      "Score: 0.271. Val loss: 0.245. \n",
      "Score: 0.266. Val loss: 0.244. \n",
      "Score: 0.262. Val loss: 0.245. \n",
      "Score: 0.258. Val loss: 0.246. \n",
      "Score: 0.256. Val loss: 0.248. \n",
      "Score: 0.254. Val loss: 0.251. \n",
      "Score: 0.253. Val loss: 0.253. \n",
      "Score: 0.252. Val loss: 0.254. \n",
      "Score: 0.252. Val loss: 0.256. \n",
      "Score: 0.252. Val loss: 0.257. \n",
      "Score: 0.252. Val loss: 0.258. \n",
      "Score: 0.252. Val loss: 0.258. \n",
      "Score: 0.252. Val loss: 0.259. \n",
      "Score: 0.252. Val loss: 0.259. \n",
      "Score: 0.252. Val loss: 0.259. \n",
      "Score: 0.252. Val loss: 0.259. \n",
      "Score: 0.252. Val loss: 0.259. \n",
      "Score: 0.252. Val loss: 0.259. \n",
      "Score: 0.251. Val loss: 0.259. \n",
      "Score: 0.251. Val loss: 0.26. \n",
      "Score: 0.251. Val loss: 0.26. \n",
      "Score: 0.251. Val loss: 0.26. \n",
      "Score: 0.251. Val loss: 0.26. \n",
      "Score: 0.251. Val loss: 0.26. \n",
      "Score: 0.251. Val loss: 0.26. \n",
      "Score: 0.251. Val loss: 0.26. \n",
      "Score: 0.251. Val loss: 0.26. \n",
      "Score: 0.251. Val loss: 0.26. \n"
     ]
    }
   ],
   "source": [
    "# scores_list = []\n",
    "# for i in range(0, 1000):\n",
    "#     np.random.seed(i)\n",
    "np.random.seed(11)  # bad: 8, 11, 24. Good: 6, 9, 14\n",
    "BATCH_SIZE = 1\n",
    "\n",
    "ds_train = BinaryIterator('train', max_count=200, batch_size=BATCH_SIZE)\n",
    "ds_val = BinaryIterator('validation', max_count=30, batch_size=BATCH_SIZE)\n",
    "\n",
    "nn = NeuralNetwork()\n",
    "scores_by_epoch = nn.fit(ds_train, epochs=30, iterator_val=ds_val)\n",
    "scores = pd.DataFrame.from_dict(scores_by_epoch)\n",
    "# scores_list.append(scores[scores.columns[-1]].mean())\n",
    "# _ = scores.plot.line(subplots=True, figsize=(14, 8))"
   ]
  },
  {
   "cell_type": "code",
   "execution_count": 126,
   "id": "da97aab6",
   "metadata": {},
   "outputs": [
    {
     "data": {
      "text/plain": [
       "(array([[0.54],\n",
       "        [0.54],\n",
       "        [0.45],\n",
       "        [0.46]]),\n",
       " array([0, 1, 1, 0], dtype=int32))"
      ]
     },
     "execution_count": 126,
     "metadata": {},
     "output_type": "execute_result"
    }
   ],
   "source": [
    "nn.predict(X).round(2), X[:, 0] ^ X[:, 1] "
   ]
  },
  {
   "cell_type": "code",
   "execution_count": 102,
   "id": "f6bebfe1",
   "metadata": {},
   "outputs": [
    {
     "data": {
      "text/plain": [
       "array([[0, 0],\n",
       "       [0, 1],\n",
       "       [1, 0],\n",
       "       [1, 1]])"
      ]
     },
     "execution_count": 102,
     "metadata": {},
     "output_type": "execute_result"
    }
   ],
   "source": [
    "X"
   ]
  },
  {
   "cell_type": "code",
   "execution_count": 913,
   "id": "f3b41770",
   "metadata": {},
   "outputs": [
    {
     "name": "stdout",
     "output_type": "stream",
     "text": [
      "[[5.25091241e-16 0.00000000e+00]\n",
      " [0.00000000e+00 8.95454766e-01]\n",
      " [9.29016737e-01 0.00000000e+00]\n",
      " [0.00000000e+00 0.00000000e+00]]\n",
      "[[5.6521182e-16]\n",
      " [1.0000000e+00]\n",
      " [1.0000000e+00]\n",
      " [0.0000000e+00]]\n"
     ]
    }
   ],
   "source": [
    "print(relu(np.dot(X, nn.w1) + nn.w1b))\n",
    "print(np.dot(relu(np.dot(X, nn.w1) + nn.w1b), nn.w2))"
   ]
  },
  {
   "cell_type": "code",
   "execution_count": 103,
   "id": "c054cf36",
   "metadata": {},
   "outputs": [
    {
     "name": "stdout",
     "output_type": "stream",
     "text": [
      "50\n",
      "100\n",
      "150\n"
     ]
    },
    {
     "data": {
      "text/plain": [
       "(500000, 9)"
      ]
     },
     "execution_count": 103,
     "metadata": {},
     "output_type": "execute_result"
    }
   ],
   "source": [
    "weights_w1 = np.repeat(np.arange(-1, 1, 0.01), 4).reshape(200, 2, 2)\n",
    "weights_w1b = np.repeat(np.arange(-0.5, 0, 0.01), 2).reshape(50, 1, 2)\n",
    "weights_w2 = np.repeat(np.arange(0.8, 1.3, 0.01), 2).reshape(50, 2, 1)\n",
    "\n",
    "res_weights_table = []\n",
    "for i, weights_w1_el in enumerate(weights_w1):\n",
    "    if i > 0 and i % 50 == 0:\n",
    "        print(i)\n",
    "\n",
    "    for weights_w1b_el in weights_w1b:\n",
    "        for weights_w2_el in weights_w2:\n",
    "            y = NeuralNetwork.with_weights(weights_w1_el, weights_w1b_el, weights_w2_el).predict(X)\n",
    "            res_weights_table.append(\n",
    "                np.hstack((\n",
    "                    weights_w1_el.ravel(),\n",
    "                    weights_w1b_el.ravel(),\n",
    "                    weights_w2_el.ravel(),\n",
    "                    mse(X[:, 0] ^ X[:, 1], y)\n",
    "                ))\n",
    "            )\n",
    "res_weights_table = np.array(res_weights_table)\n",
    "res_weights_table.shape"
   ]
  },
  {
   "cell_type": "code",
   "execution_count": 104,
   "id": "ec703326",
   "metadata": {},
   "outputs": [
    {
     "data": {
      "text/html": [
       "<div>\n",
       "<style scoped>\n",
       "    .dataframe tbody tr th:only-of-type {\n",
       "        vertical-align: middle;\n",
       "    }\n",
       "\n",
       "    .dataframe tbody tr th {\n",
       "        vertical-align: top;\n",
       "    }\n",
       "\n",
       "    .dataframe thead th {\n",
       "        text-align: right;\n",
       "    }\n",
       "</style>\n",
       "<table border=\"1\" class=\"dataframe\">\n",
       "  <thead>\n",
       "    <tr style=\"text-align: right;\">\n",
       "      <th></th>\n",
       "      <th>w-0</th>\n",
       "      <th>w-1</th>\n",
       "      <th>w-2</th>\n",
       "      <th>w-3</th>\n",
       "      <th>w-4</th>\n",
       "      <th>w-5</th>\n",
       "      <th>w-6</th>\n",
       "      <th>w-7</th>\n",
       "      <th>mse</th>\n",
       "    </tr>\n",
       "  </thead>\n",
       "  <tbody>\n",
       "    <tr>\n",
       "      <th>304952</th>\n",
       "      <td>0.21</td>\n",
       "      <td>0.21</td>\n",
       "      <td>0.21</td>\n",
       "      <td>0.21</td>\n",
       "      <td>-0.01</td>\n",
       "      <td>-0.01</td>\n",
       "      <td>0.82</td>\n",
       "      <td>0.82</td>\n",
       "      <td>0.334722</td>\n",
       "    </tr>\n",
       "    <tr>\n",
       "      <th>304951</th>\n",
       "      <td>0.21</td>\n",
       "      <td>0.21</td>\n",
       "      <td>0.21</td>\n",
       "      <td>0.21</td>\n",
       "      <td>-0.01</td>\n",
       "      <td>-0.01</td>\n",
       "      <td>0.81</td>\n",
       "      <td>0.81</td>\n",
       "      <td>0.334728</td>\n",
       "    </tr>\n",
       "    <tr>\n",
       "      <th>304953</th>\n",
       "      <td>0.21</td>\n",
       "      <td>0.21</td>\n",
       "      <td>0.21</td>\n",
       "      <td>0.21</td>\n",
       "      <td>-0.01</td>\n",
       "      <td>-0.01</td>\n",
       "      <td>0.83</td>\n",
       "      <td>0.83</td>\n",
       "      <td>0.334766</td>\n",
       "    </tr>\n",
       "    <tr>\n",
       "      <th>304950</th>\n",
       "      <td>0.21</td>\n",
       "      <td>0.21</td>\n",
       "      <td>0.21</td>\n",
       "      <td>0.21</td>\n",
       "      <td>-0.01</td>\n",
       "      <td>-0.01</td>\n",
       "      <td>0.80</td>\n",
       "      <td>0.80</td>\n",
       "      <td>0.334784</td>\n",
       "    </tr>\n",
       "    <tr>\n",
       "      <th>307450</th>\n",
       "      <td>0.22</td>\n",
       "      <td>0.22</td>\n",
       "      <td>0.22</td>\n",
       "      <td>0.22</td>\n",
       "      <td>-0.01</td>\n",
       "      <td>-0.01</td>\n",
       "      <td>0.80</td>\n",
       "      <td>0.80</td>\n",
       "      <td>0.334784</td>\n",
       "    </tr>\n",
       "  </tbody>\n",
       "</table>\n",
       "</div>"
      ],
      "text/plain": [
       "         w-0   w-1   w-2   w-3   w-4   w-5   w-6   w-7       mse\n",
       "304952  0.21  0.21  0.21  0.21 -0.01 -0.01  0.82  0.82  0.334722\n",
       "304951  0.21  0.21  0.21  0.21 -0.01 -0.01  0.81  0.81  0.334728\n",
       "304953  0.21  0.21  0.21  0.21 -0.01 -0.01  0.83  0.83  0.334766\n",
       "304950  0.21  0.21  0.21  0.21 -0.01 -0.01  0.80  0.80  0.334784\n",
       "307450  0.22  0.22  0.22  0.22 -0.01 -0.01  0.80  0.80  0.334784"
      ]
     },
     "execution_count": 104,
     "metadata": {},
     "output_type": "execute_result"
    }
   ],
   "source": [
    "df_tmp = pd.DataFrame(res_weights_table, columns=list(map(lambda v: f'w-{v}', range(8))) + ['mse'])\n",
    "df_tmp = df_tmp.sort_values('mse')\n",
    "df_tmp.head()"
   ]
  },
  {
   "cell_type": "code",
   "execution_count": 105,
   "id": "3a43da92",
   "metadata": {},
   "outputs": [
    {
     "name": "stdout",
     "output_type": "stream",
     "text": [
      "(500000, 2)\n"
     ]
    }
   ],
   "source": [
    "z = res_weights_table[:, -1]\n",
    "xy = TSNE(n_components=2).fit_transform(res_weights_table[:, :-1])\n",
    "print(xy.shape)"
   ]
  },
  {
   "cell_type": "code",
   "execution_count": null,
   "id": "f7d6b1e7",
   "metadata": {},
   "outputs": [],
   "source": []
  },
  {
   "cell_type": "code",
   "execution_count": 995,
   "id": "a76ebb99",
   "metadata": {},
   "outputs": [
    {
     "data": {
      "text/plain": [
       "((12500, 12500), (12500, 12500), (12500, 12500))"
      ]
     },
     "execution_count": 995,
     "metadata": {},
     "output_type": "execute_result"
    }
   ],
   "source": [
    "X_, Y_ = np.meshgrid(xy[:, 0], xy[:, 1])\n",
    "Z, _ = np.meshgrid(z, z)\n",
    "X.shape, Y.shape, Z.shape"
   ]
  },
  {
   "cell_type": "code",
   "execution_count": 1014,
   "id": "8cb8f835",
   "metadata": {},
   "outputs": [
    {
     "data": {
      "text/plain": [
       "<matplotlib.collections.PathCollection at 0x20e2dc78f98>"
      ]
     },
     "execution_count": 1014,
     "metadata": {},
     "output_type": "execute_result"
    },
    {
     "data": {
      "image/png": "[encoded data removed]",
      "text/plain": [
       "<Figure size 432x288 with 1 Axes>"
      ]
     },
     "metadata": {
      "needs_background": "light"
     },
     "output_type": "display_data"
    }
   ],
   "source": [
    "color = (z - z.min()) / (z.max() - z.min())\n",
    "plt.scatter(xy[:, 0], xy[:, 1], c=color, alpha=0.5)"
   ]
  },
  {
   "cell_type": "code",
   "execution_count": 998,
   "id": "5d97936e",
   "metadata": {},
   "outputs": [
    {
     "data": {
      "text/plain": [
       "<matplotlib.contour.QuadContourSet at 0x20e264c19b0>"
      ]
     },
     "execution_count": 998,
     "metadata": {},
     "output_type": "execute_result"
    },
    {
     "data": {
      "image/png": "[encoded data removed]",
      "text/plain": [
       "<Figure size 432x288 with 1 Axes>"
      ]
     },
     "metadata": {
      "needs_background": "light"
     },
     "output_type": "display_data"
    }
   ],
   "source": [
    "fig, ax = plt.subplots(1, 1, subplot_kw={'projection': '3d'})\n",
    "ax.contour3D(X, Y, Z, 50, cmap='binary')"
   ]
  },
  {
   "cell_type": "code",
   "execution_count": 425,
   "id": "0b62cc32",
   "metadata": {},
   "outputs": [
    {
     "data": {
      "text/plain": [
       "(4.605170185988091,\n",
       " 0.01005033585350145,\n",
       " 0.01005033585350145,\n",
       " 4.605170185988091)"
      ]
     },
     "execution_count": 425,
     "metadata": {},
     "output_type": "execute_result"
    }
   ],
   "source": [
    "entropy(1, 0.01), entropy(1, 0.99), entropy(0, 0.01), entropy(0, 0.99)"
   ]
  },
  {
   "cell_type": "markdown",
   "id": "b9e909a3",
   "metadata": {},
   "source": [
    "Функция потери - Кросс-энтропия (Исходные формулы)\n",
    "\n",
    "$$\n",
    "L = -\\frac{1}{N} \\sum_{n=1}^{\\infty} y_i log_2(\\hat y_i) + (1 - y_i)log_2(1 - \\hat y_i) - for \\: one \\: window \\\\\n",
    "$$"
   ]
  },
  {
   "cell_type": "markdown",
   "id": "f660a254",
   "metadata": {},
   "source": [
    "Прямое распространение:\n",
    "$$\n",
    "\\hat y = \\sigma(W_1*x)\n",
    "$$\n",
    "Loss:\n",
    "$$\n",
    "Loss(y, \\hat y) = - \\frac{1}{N} \\sum_{n=1}^{\\infty} y_i log_2(\\hat y_i) + (1 - y_i)log_2(1 - \\hat y_i)\n",
    "$$\n",
    "Производная:\n",
    "$$\n",
    "\\frac{\\partial Loss(y, \\hat y)}{\\partial \\hat y} = - \\frac{1}{N} \\sum_{n=1}^{\\infty} \\frac{y_i}{\\hat y_i} * 1 + \\frac{1 - y_i}{1 - \\hat y_i} * -1  \\\\\n",
    "\\frac{\\partial Loss(y, \\hat y)}{\\partial \\hat y} = - \\frac{1}{N} \\sum_{n=1}^{\\infty} \\frac{y_i}{\\hat y_i} + \\frac{y_i - 1}{\\hat y_i - 1}\n",
    "$$"
   ]
  },
  {
   "cell_type": "code",
   "execution_count": 354,
   "id": "1cc2dda0",
   "metadata": {},
   "outputs": [],
   "source": [
    "class DataIterator:\n",
    "    def __init__(self, name, img_size=3, max_count=500):\n",
    "        self.name = name\n",
    "        self._img_size = img_size\n",
    "        self._images = []\n",
    "        self._max_count = max_count\n",
    "        \n",
    "        self.index = 0\n",
    "    \n",
    "    def __str__(self):\n",
    "        return self.name\n",
    "    \n",
    "    def __iter__(self):\n",
    "        self.index = 0\n",
    "        return self\n",
    "\n",
    "    def __next__(self):\n",
    "        if self.index > self._max_count:\n",
    "            raise StopIteration\n",
    "        \n",
    "        if self.index > len(self._images) - 1:\n",
    "            img = self._generate_img()\n",
    "            self._images.append(img)\n",
    "        \n",
    "        self.index += 1\n",
    "        img = self._images[self.index - 1]\n",
    "        return img, img\n",
    "    \n",
    "    def drop(self):\n",
    "        self.index = 0\n",
    "    \n",
    "    def _generate_img(self):\n",
    "        img = np.zeros((3, 3)).astype('float32') + .1\n",
    "        if np.random.rand() > 0.5:\n",
    "            img[1, 1] = 0.9  # Точка в центре\n",
    "        return img"
   ]
  },
  {
   "cell_type": "code",
   "execution_count": 294,
   "id": "13f460b9",
   "metadata": {},
   "outputs": [
    {
     "name": "stdout",
     "output_type": "stream",
     "text": [
      "[0.1 0.1 0.1 0.1 0.1 0.1 0.1 0.1 0.1]\n"
     ]
    }
   ],
   "source": [
    "ds = DataIterator('train', max_count=2)\n",
    "for i, img in enumerate(ds):\n",
    "    print(img[0].ravel())\n",
    "#     if i > 0: \n",
    "    break"
   ]
  },
  {
   "cell_type": "markdown",
   "id": "b8f7c7de",
   "metadata": {},
   "source": [
    "https://www.machinelearningmastery.ru/img/0-574427-412146.png"
   ]
  },
  {
   "cell_type": "code",
   "execution_count": 447,
   "id": "a87fa9e3",
   "metadata": {},
   "outputs": [
    {
     "name": "stdout",
     "output_type": "stream",
     "text": [
      "0.9 1.0042145\n",
      "0.09999999999999998 -0.00421450000000001 nan\n"
     ]
    },
    {
     "name": "stderr",
     "output_type": "stream",
     "text": [
      "C:\\Users\\user\\Anaconda3\\lib\\site-packages\\ipykernel_launcher.py:3: RuntimeWarning: invalid value encountered in log\n",
      "  This is separate from the ipykernel package so we can avoid doing imports until\n",
      "C:\\Users\\user\\Anaconda3\\lib\\site-packages\\ipykernel_launcher.py:4: RuntimeWarning: invalid value encountered in log\n",
      "  after removing the cwd from sys.path.\n"
     ]
    },
    {
     "data": {
      "text/plain": [
       "nan"
      ]
     },
     "execution_count": 447,
     "metadata": {},
     "output_type": "execute_result"
    }
   ],
   "source": [
    "def entropy(y, y_):\n",
    "    print(y, y_)\n",
    "    print((1 - y), 1 - y_, np.log(1 - y_))\n",
    "    return -(y * np.log(y_) + (1 - y) * np.log(1 - y_)).mean()\n",
    "entropy(0.9, 1.0042145)"
   ]
  },
  {
   "cell_type": "code",
   "execution_count": 612,
   "id": "a3856591",
   "metadata": {},
   "outputs": [
    {
     "name": "stdout",
     "output_type": "stream",
     "text": [
      "Model: \"sequential_13\"\n",
      "_________________________________________________________________\n",
      "Layer (type)                 Output Shape              Param #   \n",
      "=================================================================\n",
      "conv (Conv2D)                (1, 10, 10, 1)            10        \n",
      "_________________________________________________________________\n",
      "out (Dense)                  (1, 10, 10, 1)            2         \n",
      "=================================================================\n",
      "Total params: 12\n",
      "Trainable params: 12\n",
      "Non-trainable params: 0\n",
      "_________________________________________________________________\n"
     ]
    }
   ],
   "source": [
    "import tensorflow as tf\n",
    "\n",
    "model = tf.keras.Sequential(\n",
    "    [\n",
    "        tf.keras.layers.Conv2D(1, (3, 3), padding=\"same\", activation=\"relu\", name=\"conv\"),\n",
    "        tf.keras.layers.Dense(1, activation=\"relu\", name=\"out\"),\n",
    "#         layers.Dense(3, activation=\"relu\", name=\"layer2\"),\n",
    "#         layers.Dense(4, name=\"layer3\"),\n",
    "    ]\n",
    ")\n",
    "model.build((1, 10, 10, 1))\n",
    "model.summary()"
   ]
  },
  {
   "cell_type": "code",
   "execution_count": 558,
   "id": "cbbcee9c",
   "metadata": {},
   "outputs": [],
   "source": [
    "class NeuralNetwork:\n",
    "    def __init__(self, loss=relu, size=3):\n",
    "        self._w1 = np.random.rand(size ** 2).reshape((size, size))\n",
    "        self._w2 = np.random.rand(size ** 2).reshape((size, size))\n",
    "        self._dence = np.random.rand()\n",
    "        self._loss = loss\n",
    "\n",
    "    def _feedforward(self, X):\n",
    "        _o = np.zeros(X.shape).astype('float32') + .1\n",
    "        y_ = sigmoid(np.dot(X, self._w1).mean())\n",
    "        _o[1, 1] = y_  # выровнить от 0 до 1\n",
    "        return _o\n",
    "\n",
    "    def _backprop(self, X, y, _o):\n",
    "        derivative_sigmoid = sigmoid_derivative(_o)\n",
    "        derivative_relu = relu_derivative(_o)\n",
    "        \n",
    "        res1 = entropy_derivative(y, _o)\n",
    "        res2 = res1# * derivative_sigmoid  # derivative_relu\n",
    "        \n",
    "        d_w = 0.001 * np.dot(self._w1.T, res2)\n",
    "        \n",
    "        self._w1 -= d_w\n",
    "    \n",
    "    def fit(self, iterator, epochs=5, iterator_val=None):\n",
    "        scores = {}\n",
    "        for epoch in range(epochs):\n",
    "            scores[epoch] = []\n",
    "            print(f'Epoch: {epoch}')\n",
    "            \n",
    "            for X, y in iterator:\n",
    "                _o = self._feedforward(X)\n",
    "                self._backprop(X, y, _o)  # update weights\n",
    "                \n",
    "                score = entropy(y, _o)\n",
    "                scores[epoch].append(score)\n",
    "                print(y[1, 1], round(_o[1, 1], 2), round(score, 2), np.round(self._w1.ravel(), 2))\n",
    "                \n",
    "                if np.isnan(score) or np.isinf(score):\n",
    "                    print(y[1, 1], _o[1, 1])\n",
    "                    break\n",
    "#                 break\n",
    "            if np.isnan(score) or np.isinf(score):\n",
    "                break\n",
    "            iterator.drop()\n",
    "        return scores\n",
    "    \n",
    "    def predict(self, X):\n",
    "        return self._feedforward(X)"
   ]
  },
  {
   "cell_type": "code",
   "execution_count": 559,
   "id": "8c1fe496",
   "metadata": {},
   "outputs": [
    {
     "name": "stdout",
     "output_type": "stream",
     "text": [
      "Epoch: 0\n",
      "0.9 0.53 0.36 [0.42 0.72 0.   0.3  0.15 0.09 0.19 0.35 0.4 ]\n",
      "0.1 0.52 0.37 [0.42 0.72 0.   0.31 0.15 0.1  0.19 0.35 0.4 ]\n",
      "0.9 0.53 0.36 [0.42 0.73 0.01 0.31 0.15 0.1  0.19 0.35 0.4 ]\n",
      "0.1 0.52 0.37 [0.42 0.73 0.01 0.31 0.16 0.1  0.19 0.35 0.4 ]\n",
      "0.9 0.53 0.36 [0.43 0.73 0.01 0.31 0.16 0.1  0.19 0.35 0.4 ]\n",
      "0.1 0.52 0.37 [0.43 0.73 0.01 0.32 0.16 0.11 0.19 0.35 0.4 ]\n",
      "0.9 0.54 0.36 [0.43 0.73 0.01 0.32 0.16 0.11 0.19 0.35 0.4 ]\n",
      "0.1 0.52 0.37 [0.43 0.74 0.01 0.32 0.17 0.11 0.19 0.35 0.4 ]\n",
      "0.9 0.54 0.36 [0.43 0.74 0.02 0.32 0.17 0.11 0.2  0.35 0.41]\n",
      "0.1 0.52 0.37 [0.44 0.74 0.02 0.33 0.17 0.12 0.2  0.36 0.41]\n",
      "0.1 0.52 0.37 [0.44 0.74 0.02 0.33 0.17 0.12 0.2  0.36 0.41]\n",
      "0.9 0.54 0.36 [0.44 0.74 0.02 0.33 0.18 0.12 0.2  0.36 0.41]\n",
      "0.9 0.54 0.36 [0.44 0.74 0.02 0.33 0.18 0.12 0.2  0.36 0.41]\n",
      "0.1 0.52 0.37 [0.44 0.75 0.03 0.34 0.18 0.13 0.2  0.36 0.41]\n",
      "0.9 0.54 0.36 [0.45 0.75 0.03 0.34 0.18 0.13 0.2  0.36 0.41]\n",
      "0.9 0.54 0.36 [0.45 0.75 0.03 0.34 0.19 0.13 0.2  0.36 0.41]\n",
      "0.9 0.54 0.36 [0.45 0.75 0.03 0.35 0.19 0.14 0.2  0.36 0.41]\n",
      "0.1 0.52 0.37 [0.45 0.75 0.03 0.35 0.19 0.14 0.21 0.36 0.42]\n",
      "0.1 0.52 0.37 [0.45 0.76 0.04 0.35 0.19 0.14 0.21 0.37 0.42]\n",
      "0.1 0.52 0.37 [0.46 0.76 0.04 0.35 0.2  0.14 0.21 0.37 0.42]\n",
      "0.9 0.54 0.36 [0.46 0.76 0.04 0.36 0.2  0.15 0.21 0.37 0.42]\n",
      "0.1 0.52 0.37 [0.46 0.76 0.04 0.36 0.2  0.15 0.21 0.37 0.42]\n",
      "0.1 0.52 0.37 [0.46 0.76 0.04 0.36 0.21 0.15 0.21 0.37 0.42]\n",
      "0.9 0.54 0.36 [0.46 0.77 0.05 0.36 0.21 0.15 0.21 0.37 0.42]\n",
      "0.9 0.54 0.36 [0.47 0.77 0.05 0.37 0.21 0.16 0.21 0.37 0.42]\n",
      "0.9 0.54 0.36 [0.47 0.77 0.05 0.37 0.21 0.16 0.22 0.37 0.43]\n",
      "0.1 0.53 0.37 [0.47 0.77 0.05 0.37 0.22 0.16 0.22 0.38 0.43]\n",
      "0.9 0.54 0.36 [0.47 0.77 0.05 0.37 0.22 0.16 0.22 0.38 0.43]\n",
      "0.9 0.54 0.36 [0.47 0.78 0.06 0.38 0.22 0.17 0.22 0.38 0.43]\n",
      "0.1 0.53 0.37 [0.48 0.78 0.06 0.38 0.22 0.17 0.22 0.38 0.43]\n",
      "0.9 0.54 0.36 [0.48 0.78 0.06 0.38 0.23 0.17 0.22 0.38 0.43]\n",
      "0.9 0.54 0.36 [0.48 0.78 0.06 0.39 0.23 0.18 0.22 0.38 0.43]\n",
      "0.9 0.54 0.36 [0.48 0.79 0.07 0.39 0.23 0.18 0.22 0.38 0.43]\n",
      "0.1 0.53 0.37 [0.48 0.79 0.07 0.39 0.24 0.18 0.23 0.38 0.44]\n",
      "0.9 0.54 0.36 [0.49 0.79 0.07 0.39 0.24 0.18 0.23 0.39 0.44]\n",
      "0.1 0.53 0.37 [0.49 0.79 0.07 0.4  0.24 0.19 0.23 0.39 0.44]\n",
      "0.1 0.53 0.37 [0.49 0.79 0.07 0.4  0.24 0.19 0.23 0.39 0.44]\n",
      "0.9 0.55 0.36 [0.49 0.8  0.08 0.4  0.25 0.19 0.23 0.39 0.44]\n",
      "0.1 0.53 0.37 [0.5  0.8  0.08 0.41 0.25 0.2  0.23 0.39 0.44]\n",
      "0.1 0.53 0.37 [0.5  0.8  0.08 0.41 0.25 0.2  0.23 0.39 0.44]\n",
      "0.1 0.53 0.37 [0.5  0.8  0.08 0.41 0.26 0.2  0.24 0.39 0.45]\n",
      "0.1 0.53 0.37 [0.5  0.81 0.09 0.41 0.26 0.2  0.24 0.4  0.45]\n",
      "0.9 0.55 0.36 [0.51 0.81 0.09 0.42 0.26 0.21 0.24 0.4  0.45]\n",
      "0.1 0.53 0.37 [0.51 0.81 0.09 0.42 0.26 0.21 0.24 0.4  0.45]\n",
      "0.1 0.53 0.37 [0.51 0.81 0.09 0.42 0.27 0.21 0.24 0.4  0.45]\n",
      "0.1 0.53 0.37 [0.51 0.82 0.1  0.43 0.27 0.22 0.24 0.4  0.45]\n",
      "0.1 0.53 0.37 [0.51 0.82 0.1  0.43 0.27 0.22 0.24 0.4  0.46]\n",
      "0.9 0.55 0.36 [0.52 0.82 0.1  0.43 0.28 0.22 0.25 0.41 0.46]\n",
      "0.1 0.53 0.37 [0.52 0.82 0.1  0.43 0.28 0.22 0.25 0.41 0.46]\n",
      "0.9 0.55 0.36 [0.52 0.82 0.1  0.44 0.28 0.23 0.25 0.41 0.46]\n",
      "0.9 0.55 0.36 [0.52 0.83 0.11 0.44 0.28 0.23 0.25 0.41 0.46]\n",
      "0.1 0.53 0.37 [0.53 0.83 0.11 0.44 0.29 0.23 0.25 0.41 0.46]\n",
      "0.1 0.53 0.37 [0.53 0.83 0.11 0.45 0.29 0.24 0.25 0.41 0.46]\n",
      "0.9 0.55 0.36 [0.53 0.83 0.11 0.45 0.29 0.24 0.26 0.41 0.47]\n",
      "0.1 0.53 0.37 [0.53 0.84 0.12 0.45 0.3  0.24 0.26 0.42 0.47]\n",
      "0.1 0.53 0.37 [0.54 0.84 0.12 0.46 0.3  0.25 0.26 0.42 0.47]\n",
      "0.9 0.55 0.36 [0.54 0.84 0.12 0.46 0.3  0.25 0.26 0.42 0.47]\n",
      "0.9 0.55 0.36 [0.54 0.84 0.12 0.46 0.31 0.25 0.26 0.42 0.47]\n",
      "0.9 0.55 0.36 [0.54 0.85 0.13 0.47 0.31 0.26 0.26 0.42 0.47]\n",
      "0.9 0.55 0.36 [0.55 0.85 0.13 0.47 0.31 0.26 0.27 0.42 0.48]\n",
      "0.9 0.55 0.36 [0.55 0.85 0.13 0.47 0.32 0.26 0.27 0.43 0.48]\n",
      "0.9 0.55 0.36 [0.55 0.85 0.13 0.47 0.32 0.26 0.27 0.43 0.48]\n",
      "0.1 0.53 0.37 [0.55 0.86 0.14 0.48 0.32 0.27 0.27 0.43 0.48]\n",
      "0.1 0.53 0.37 [0.56 0.86 0.14 0.48 0.33 0.27 0.27 0.43 0.48]\n",
      "0.9 0.56 0.36 [0.56 0.86 0.14 0.48 0.33 0.27 0.27 0.43 0.49]\n",
      "0.1 0.53 0.37 [0.56 0.86 0.15 0.49 0.33 0.28 0.28 0.44 0.49]\n",
      "0.1 0.53 0.37 [0.56 0.87 0.15 0.49 0.34 0.28 0.28 0.44 0.49]\n",
      "0.9 0.56 0.36 [0.57 0.87 0.15 0.49 0.34 0.28 0.28 0.44 0.49]\n",
      "0.1 0.53 0.37 [0.57 0.87 0.15 0.5  0.34 0.29 0.28 0.44 0.49]\n",
      "0.9 0.56 0.36 [0.57 0.88 0.16 0.5  0.35 0.29 0.28 0.44 0.49]\n",
      "0.9 0.56 0.36 [0.58 0.88 0.16 0.5  0.35 0.29 0.29 0.44 0.5 ]\n",
      "0.9 0.56 0.36 [0.58 0.88 0.16 0.51 0.35 0.3  0.29 0.45 0.5 ]\n",
      "0.9 0.56 0.36 [0.58 0.88 0.16 0.51 0.36 0.3  0.29 0.45 0.5 ]\n",
      "0.9 0.56 0.36 [0.58 0.89 0.17 0.51 0.36 0.3  0.29 0.45 0.5 ]\n",
      "0.1 0.53 0.37 [0.59 0.89 0.17 0.52 0.36 0.31 0.29 0.45 0.5 ]\n",
      "0.1 0.53 0.37 [0.59 0.89 0.17 0.52 0.37 0.31 0.3  0.45 0.51]\n",
      "0.9 0.56 0.36 [0.59 0.89 0.18 0.52 0.37 0.31 0.3  0.46 0.51]\n",
      "0.1 0.53 0.37 [0.59 0.9  0.18 0.53 0.37 0.32 0.3  0.46 0.51]\n",
      "0.9 0.56 0.36 [0.6  0.9  0.18 0.53 0.38 0.32 0.3  0.46 0.51]\n",
      "0.9 0.56 0.36 [0.6  0.9  0.18 0.54 0.38 0.33 0.3  0.46 0.51]\n",
      "0.9 0.56 0.36 [0.6  0.91 0.19 0.54 0.38 0.33 0.31 0.46 0.52]\n",
      "0.1 0.54 0.37 [0.61 0.91 0.19 0.54 0.39 0.33 0.31 0.47 0.52]\n",
      "0.9 0.56 0.36 [0.61 0.91 0.19 0.55 0.39 0.34 0.31 0.47 0.52]\n",
      "0.1 0.54 0.37 [0.61 0.91 0.2  0.55 0.39 0.34 0.31 0.47 0.52]\n",
      "0.9 0.56 0.36 [0.62 0.92 0.2  0.55 0.4  0.34 0.31 0.47 0.52]\n",
      "0.1 0.54 0.37 [0.62 0.92 0.2  0.56 0.4  0.35 0.32 0.47 0.53]\n",
      "0.1 0.54 0.37 [0.62 0.92 0.2  0.56 0.4  0.35 0.32 0.48 0.53]\n",
      "0.9 0.57 0.36 [0.62 0.93 0.21 0.56 0.41 0.35 0.32 0.48 0.53]\n",
      "0.9 0.57 0.36 [0.63 0.93 0.21 0.57 0.41 0.36 0.32 0.48 0.53]\n",
      "0.1 0.54 0.37 [0.63 0.93 0.21 0.57 0.41 0.36 0.32 0.48 0.54]\n",
      "0.9 0.57 0.36 [0.63 0.94 0.22 0.57 0.42 0.36 0.33 0.49 0.54]\n",
      "0.1 0.54 0.37 [0.64 0.94 0.22 0.58 0.42 0.37 0.33 0.49 0.54]\n",
      "0.9 0.57 0.35 [0.64 0.94 0.22 0.58 0.43 0.37 0.33 0.49 0.54]\n",
      "0.9 0.57 0.35 [0.64 0.94 0.23 0.59 0.43 0.38 0.33 0.49 0.54]\n",
      "0.1 0.54 0.37 [0.65 0.95 0.23 0.59 0.43 0.38 0.34 0.49 0.55]\n",
      "0.9 0.57 0.35 [0.65 0.95 0.23 0.59 0.44 0.38 0.34 0.5  0.55]\n",
      "0.9 0.57 0.35 [0.65 0.95 0.24 0.6  0.44 0.39 0.34 0.5  0.55]\n",
      "0.1 0.54 0.37 [0.66 0.96 0.24 0.6  0.44 0.39 0.34 0.5  0.55]\n",
      "0.9 0.57 0.35 [0.66 0.96 0.24 0.6  0.45 0.39 0.35 0.5  0.56]\n",
      "0.9 0.57 0.35 [0.66 0.96 0.24 0.61 0.45 0.4  0.35 0.51 0.56]\n",
      "0.9 0.57 0.35 [0.66 0.97 0.25 0.61 0.46 0.4  0.35 0.51 0.56]\n",
      "0.1 0.54 0.37 [0.67 0.97 0.25 0.62 0.46 0.41 0.35 0.51 0.56]\n",
      "0.1 0.54 0.37 [0.67 0.97 0.25 0.62 0.46 0.41 0.35 0.51 0.57]\n",
      "0.9 0.57 0.35 [0.67 0.98 0.26 0.62 0.47 0.41 0.36 0.52 0.57]\n",
      "0.9 0.57 0.35 [0.68 0.98 0.26 0.63 0.47 0.42 0.36 0.52 0.57]\n",
      "0.1 0.54 0.37 [0.68 0.98 0.26 0.63 0.47 0.42 0.36 0.52 0.57]\n",
      "0.9 0.57 0.35 [0.68 0.99 0.27 0.64 0.48 0.43 0.36 0.52 0.58]\n",
      "0.9 0.57 0.35 [0.69 0.99 0.27 0.64 0.48 0.43 0.37 0.53 0.58]\n",
      "0.9 0.58 0.35 [0.69 0.99 0.27 0.64 0.49 0.43 0.37 0.53 0.58]\n",
      "0.9 0.58 0.35 [0.69 1.   0.28 0.65 0.49 0.44 0.37 0.53 0.58]\n",
      "0.1 0.54 0.37 [0.7  1.   0.28 0.65 0.49 0.44 0.37 0.53 0.59]\n",
      "0.1 0.54 0.37 [0.7  1.   0.28 0.66 0.5  0.45 0.38 0.54 0.59]\n",
      "0.1 0.54 0.37 [0.71 1.01 0.29 0.66 0.5  0.45 0.38 0.54 0.59]\n",
      "0.1 0.54 0.37 [0.71 1.01 0.29 0.66 0.51 0.45 0.38 0.54 0.59]\n",
      "0.1 0.54 0.37 [0.71 1.01 0.3  0.67 0.51 0.46 0.39 0.54 0.6 ]\n",
      "0.9 0.58 0.35 [0.72 1.02 0.3  0.67 0.52 0.46 0.39 0.55 0.6 ]\n",
      "0.9 0.58 0.35 [0.72 1.02 0.3  0.68 0.52 0.47 0.39 0.55 0.6 ]\n",
      "0.9 0.58 0.35 [0.72 1.02 0.31 0.68 0.52 0.47 0.39 0.55 0.6 ]\n",
      "0.9 0.58 0.35 [0.73 1.03 0.31 0.68 0.53 0.47 0.4  0.55 0.61]\n",
      "0.1 0.54 0.37 [0.73 1.03 0.31 0.69 0.53 0.48 0.4  0.56 0.61]\n",
      "0.1 0.54 0.37 [0.73 1.03 0.32 0.69 0.54 0.48 0.4  0.56 0.61]\n",
      "0.9 0.58 0.35 [0.74 1.04 0.32 0.7  0.54 0.49 0.4  0.56 0.62]\n",
      "0.9 0.58 0.35 [0.74 1.04 0.32 0.7  0.54 0.49 0.41 0.57 0.62]\n",
      "0.9 0.58 0.35 [0.74 1.05 0.33 0.71 0.55 0.5  0.41 0.57 0.62]\n",
      "0.1 0.55 0.37 [0.75 1.05 0.33 0.71 0.55 0.5  0.41 0.57 0.62]\n",
      "0.9 0.58 0.35 [0.75 1.05 0.34 0.71 0.56 0.5  0.42 0.57 0.63]\n",
      "0.1 0.55 0.37 [0.76 1.06 0.34 0.72 0.56 0.51 0.42 0.58 0.63]\n",
      "0.9 0.59 0.35 [0.76 1.06 0.34 0.72 0.57 0.51 0.42 0.58 0.63]\n",
      "0.1 0.55 0.37 [0.76 1.06 0.35 0.73 0.57 0.52 0.43 0.58 0.64]\n",
      "0.9 0.59 0.35 [0.77 1.07 0.35 0.73 0.57 0.52 0.43 0.59 0.64]\n",
      "0.9 0.59 0.35 [0.77 1.07 0.35 0.74 0.58 0.53 0.43 0.59 0.64]\n",
      "0.9 0.59 0.35 [0.78 1.08 0.36 0.74 0.58 0.53 0.43 0.59 0.64]\n",
      "0.1 0.55 0.37 [0.78 1.08 0.36 0.75 0.59 0.54 0.44 0.59 0.65]\n",
      "0.1 0.55 0.38 [0.78 1.08 0.37 0.75 0.59 0.54 0.44 0.6  0.65]\n",
      "0.1 0.55 0.38 [0.79 1.09 0.37 0.75 0.6  0.54 0.44 0.6  0.65]\n",
      "0.1 0.55 0.38 [0.79 1.09 0.37 0.76 0.6  0.55 0.45 0.6  0.66]\n",
      "0.1 0.55 0.38 [0.79 1.1  0.38 0.76 0.61 0.55 0.45 0.61 0.66]\n",
      "0.1 0.55 0.38 [0.8  1.1  0.38 0.77 0.61 0.56 0.45 0.61 0.66]\n",
      "0.9 0.59 0.35 [0.8  1.1  0.39 0.77 0.62 0.56 0.46 0.61 0.67]\n",
      "0.9 0.59 0.35 [0.81 1.11 0.39 0.78 0.62 0.57 0.46 0.62 0.67]\n",
      "0.1 0.55 0.38 [0.81 1.11 0.39 0.78 0.63 0.57 0.46 0.62 0.67]\n",
      "0.1 0.55 0.38 [0.82 1.12 0.4  0.79 0.63 0.58 0.47 0.62 0.68]\n",
      "0.9 0.59 0.35 [0.82 1.12 0.4  0.79 0.63 0.58 0.47 0.63 0.68]\n",
      "0.9 0.59 0.35 [0.82 1.12 0.41 0.8  0.64 0.59 0.47 0.63 0.68]\n",
      "0.1 0.55 0.38 [0.83 1.13 0.41 0.8  0.64 0.59 0.48 0.63 0.69]\n",
      "0.1 0.55 0.38 [0.83 1.13 0.41 0.81 0.65 0.6  0.48 0.64 0.69]\n",
      "0.9 0.6 0.35 [0.84 1.14 0.42 0.81 0.65 0.6  0.48 0.64 0.69]\n",
      "0.1 0.55 0.38 [0.84 1.14 0.42 0.82 0.66 0.61 0.49 0.64 0.7 ]\n",
      "0.9 0.6 0.35 [0.84 1.15 0.43 0.82 0.66 0.61 0.49 0.65 0.7 ]\n",
      "0.9 0.6 0.35 [0.85 1.15 0.43 0.83 0.67 0.62 0.49 0.65 0.7 ]\n",
      "0.9 0.6 0.35 [0.85 1.15 0.44 0.83 0.67 0.62 0.5  0.65 0.71]\n",
      "0.1 0.55 0.38 [0.86 1.16 0.44 0.84 0.68 0.63 0.5  0.66 0.71]\n",
      "0.1 0.55 0.38 [0.86 1.16 0.45 0.84 0.68 0.63 0.5  0.66 0.71]\n",
      "0.9 0.6 0.35 [0.87 1.17 0.45 0.85 0.69 0.64 0.51 0.66 0.72]\n",
      "0.9 0.6 0.35 [0.87 1.17 0.45 0.85 0.69 0.64 0.51 0.67 0.72]\n",
      "0.1 0.55 0.38 [0.88 1.18 0.46 0.86 0.7  0.65 0.51 0.67 0.73]\n",
      "0.1 0.55 0.38 [0.88 1.18 0.46 0.86 0.7  0.65 0.52 0.68 0.73]\n",
      "0.1 0.56 0.38 [0.88 1.19 0.47 0.87 0.71 0.66 0.52 0.68 0.73]\n",
      "0.1 0.56 0.38 [0.89 1.19 0.47 0.87 0.71 0.66 0.53 0.68 0.74]\n",
      "0.9 0.6 0.35 [0.89 1.19 0.48 0.88 0.72 0.67 0.53 0.69 0.74]\n",
      "0.9 0.61 0.35 [0.9  1.2  0.48 0.88 0.72 0.67 0.53 0.69 0.74]\n",
      "0.1 0.56 0.38 [0.9  1.2  0.49 0.89 0.73 0.68 0.54 0.69 0.75]\n",
      "0.9 0.61 0.35 [0.91 1.21 0.49 0.89 0.73 0.68 0.54 0.7  0.75]\n",
      "0.9 0.61 0.35 [0.91 1.21 0.5  0.9  0.74 0.69 0.54 0.7  0.76]\n",
      "0.1 0.56 0.38 [0.92 1.22 0.5  0.9  0.74 0.69 0.55 0.71 0.76]\n",
      "0.9 0.61 0.35 [0.92 1.22 0.5  0.91 0.75 0.7  0.55 0.71 0.76]\n",
      "0.9 0.61 0.35 [0.93 1.23 0.51 0.91 0.76 0.7  0.56 0.71 0.77]\n",
      "0.9 0.61 0.35 [0.93 1.23 0.51 0.92 0.76 0.71 0.56 0.72 0.77]\n",
      "0.1 0.56 0.38 [0.94 1.24 0.52 0.92 0.77 0.71 0.56 0.72 0.77]\n",
      "0.1 0.56 0.38 [0.94 1.24 0.52 0.93 0.77 0.72 0.57 0.73 0.78]\n",
      "0.1 0.56 0.38 [0.95 1.25 0.53 0.93 0.78 0.72 0.57 0.73 0.78]\n",
      "0.9 0.61 0.35 [0.95 1.25 0.53 0.94 0.78 0.73 0.58 0.73 0.79]\n",
      "0.1 0.56 0.38 [0.96 1.26 0.54 0.95 0.79 0.74 0.58 0.74 0.79]\n",
      "0.9 0.61 0.35 [0.96 1.26 0.54 0.95 0.79 0.74 0.58 0.74 0.8 ]\n",
      "0.1 0.56 0.38 [0.97 1.27 0.55 0.96 0.8  0.75 0.59 0.75 0.8 ]\n",
      "0.1 0.56 0.38 [0.97 1.27 0.55 0.96 0.8  0.75 0.59 0.75 0.8 ]\n",
      "0.9 0.62 0.35 [0.98 1.28 0.56 0.97 0.81 0.76 0.6  0.75 0.81]\n",
      "0.1 0.56 0.38 [0.98 1.28 0.56 0.97 0.82 0.76 0.6  0.76 0.81]\n",
      "0.9 0.62 0.35 [0.99 1.29 0.57 0.98 0.82 0.77 0.61 0.76 0.82]\n",
      "0.9 0.62 0.35 [0.99 1.29 0.57 0.99 0.83 0.78 0.61 0.77 0.82]\n",
      "0.9 0.62 0.35 [1.   1.3  0.58 0.99 0.83 0.78 0.61 0.77 0.82]\n",
      "0.1 0.56 0.38 [1.   1.3  0.58 1.   0.84 0.79 0.62 0.78 0.83]\n",
      "0.1 0.56 0.38 [1.01 1.31 0.59 1.   0.84 0.79 0.62 0.78 0.83]\n",
      "0.9 0.62 0.35 [1.01 1.31 0.59 1.01 0.85 0.8  0.63 0.78 0.84]\n",
      "0.9 0.62 0.35 [1.02 1.32 0.6  1.01 0.86 0.8  0.63 0.79 0.84]\n",
      "0.9 0.62 0.35 [1.02 1.32 0.61 1.02 0.86 0.81 0.64 0.79 0.85]\n",
      "0.9 0.62 0.35 [1.03 1.33 0.61 1.03 0.87 0.82 0.64 0.8  0.85]\n",
      "0.1 0.57 0.38 [1.03 1.33 0.62 1.03 0.87 0.82 0.65 0.8  0.86]\n",
      "0.1 0.57 0.38 [1.04 1.34 0.62 1.04 0.88 0.83 0.65 0.81 0.86]\n",
      "0.9 0.63 0.35 [1.04 1.34 0.63 1.04 0.89 0.83 0.65 0.81 0.87]\n",
      "0.9 0.63 0.35 [1.05 1.35 0.63 1.05 0.89 0.84 0.66 0.82 0.87]\n",
      "0.9 0.63 0.35 [1.05 1.35 0.64 1.06 0.9  0.85 0.66 0.82 0.87]\n",
      "0.9 0.63 0.35 [1.06 1.36 0.64 1.06 0.9  0.85 0.67 0.82 0.88]\n",
      "0.9 0.63 0.35 [1.07 1.36 0.65 1.07 0.91 0.86 0.67 0.83 0.88]\n",
      "0.9 0.63 0.35 [1.07 1.37 0.65 1.08 0.92 0.87 0.68 0.83 0.89]\n",
      "0.1 0.57 0.38 [1.08 1.38 0.66 1.08 0.92 0.87 0.68 0.84 0.89]\n",
      "0.1 0.57 0.38 [1.08 1.38 0.67 1.09 0.93 0.88 0.69 0.84 0.9 ]\n",
      "0.9 0.63 0.35 [1.09 1.39 0.67 1.09 0.93 0.88 0.69 0.85 0.9 ]\n",
      "0.9 0.63 0.35 [1.09 1.39 0.68 1.1  0.94 0.89 0.7  0.85 0.91]\n",
      "0.9 0.63 0.35 [1.1  1.4  0.68 1.11 0.95 0.9  0.7  0.86 0.91]\n",
      "0.9 0.63 0.35 [1.11 1.4  0.69 1.11 0.95 0.9  0.71 0.86 0.92]\n",
      "0.1 0.57 0.38 [1.11 1.41 0.69 1.12 0.96 0.91 0.71 0.87 0.92]\n",
      "0.9 0.64 0.35 [1.12 1.41 0.7  1.13 0.97 0.92 0.72 0.87 0.93]\n",
      "0.1 0.57 0.38 [1.12 1.42 0.71 1.13 0.97 0.92 0.72 0.88 0.93]\n",
      "0.1 0.57 0.38 [1.13 1.43 0.71 1.14 0.98 0.93 0.73 0.88 0.94]\n",
      "0.1 0.57 0.38 [1.14 1.43 0.72 1.15 0.99 0.94 0.73 0.89 0.94]\n",
      "0.9 0.64 0.35 [1.14 1.44 0.72 1.15 0.99 0.94 0.74 0.89 0.95]\n",
      "0.1 0.57 0.38 [1.15 1.45 0.73 1.16 1.   0.95 0.74 0.9  0.95]\n",
      "0.9 0.64 0.34 [1.15 1.45 0.74 1.17 1.01 0.96 0.75 0.9  0.96]\n",
      "0.9 0.64 0.34 [1.16 1.46 0.74 1.17 1.01 0.96 0.75 0.91 0.96]\n",
      "0.1 0.58 0.38 [1.17 1.46 0.75 1.18 1.02 0.97 0.76 0.91 0.97]\n",
      "0.1 0.58 0.38 [1.17 1.47 0.76 1.19 1.03 0.98 0.76 0.92 0.98]\n",
      "0.1 0.58 0.38 [1.18 1.48 0.76 1.19 1.03 0.98 0.77 0.93 0.98]\n",
      "0.1 0.58 0.38 [1.18 1.48 0.77 1.2  1.04 0.99 0.78 0.93 0.99]\n",
      "0.9 0.65 0.34 [1.19 1.49 0.77 1.21 1.05 1.   0.78 0.94 0.99]\n",
      "0.1 0.58 0.38 [1.2  1.5  0.78 1.21 1.05 1.   0.79 0.94 1.  ]\n",
      "0.9 0.65 0.34 [1.2  1.5  0.79 1.22 1.06 1.01 0.79 0.95 1.  ]\n",
      "0.9 0.65 0.34 [1.21 1.51 0.79 1.23 1.07 1.02 0.8  0.95 1.01]\n",
      "0.9 0.65 0.34 [1.22 1.51 0.8  1.23 1.07 1.02 0.8  0.96 1.01]\n",
      "0.9 0.65 0.34 [1.22 1.52 0.81 1.24 1.08 1.03 0.81 0.96 1.02]\n",
      "0.9 0.65 0.34 [1.23 1.53 0.81 1.25 1.09 1.04 0.82 0.97 1.03]\n",
      "0.1 0.58 0.38 [1.24 1.53 0.82 1.26 1.09 1.05 0.82 0.98 1.03]\n",
      "0.9 0.65 0.34 [1.24 1.54 0.83 1.26 1.1  1.05 0.83 0.98 1.04]\n",
      "0.9 0.65 0.34 [1.25 1.55 0.83 1.27 1.11 1.06 0.83 0.99 1.04]\n",
      "0.1 0.58 0.38 [1.26 1.55 0.84 1.28 1.12 1.07 0.84 0.99 1.05]\n",
      "0.1 0.58 0.38 [1.26 1.56 0.85 1.28 1.12 1.07 0.84 1.   1.05]\n",
      "0.9 0.66 0.34 [1.27 1.57 0.85 1.29 1.13 1.08 0.85 1.   1.06]\n",
      "0.1 0.58 0.38 [1.28 1.57 0.86 1.3  1.14 1.09 0.86 1.01 1.07]\n",
      "0.9 0.66 0.34 [1.28 1.58 0.87 1.31 1.15 1.1  0.86 1.02 1.07]\n",
      "0.1 0.58 0.38 [1.29 1.59 0.87 1.31 1.15 1.1  0.87 1.02 1.08]\n",
      "0.9 0.66 0.34 [1.3  1.59 0.88 1.32 1.16 1.11 0.87 1.03 1.08]\n",
      "0.1 0.59 0.38 [1.3  1.6  0.89 1.33 1.17 1.12 0.88 1.03 1.09]\n",
      "0.9 0.66 0.34 [1.31 1.61 0.89 1.34 1.18 1.13 0.89 1.04 1.1 ]\n",
      "0.9 0.66 0.34 [1.32 1.61 0.9  1.34 1.18 1.13 0.89 1.05 1.1 ]\n",
      "0.1 0.59 0.38 [1.33 1.62 0.91 1.35 1.19 1.14 0.9  1.05 1.11]\n",
      "0.9 0.66 0.34 [1.33 1.63 0.92 1.36 1.2  1.15 0.91 1.06 1.12]\n",
      "0.9 0.66 0.34 [1.34 1.64 0.92 1.37 1.21 1.16 0.91 1.07 1.12]\n",
      "0.1 0.59 0.38 [1.35 1.64 0.93 1.38 1.21 1.17 0.92 1.07 1.13]\n",
      "0.1 0.59 0.38 [1.35 1.65 0.94 1.38 1.22 1.17 0.92 1.08 1.14]\n",
      "0.9 0.67 0.34 [1.36 1.66 0.95 1.39 1.23 1.18 0.93 1.08 1.14]\n",
      "0.9 0.67 0.34 [1.37 1.66 0.95 1.4  1.24 1.19 0.94 1.09 1.15]\n",
      "0.1 0.59 0.38 [1.38 1.67 0.96 1.41 1.25 1.2  0.94 1.1  1.15]\n",
      "0.9 0.67 0.34 [1.38 1.68 0.97 1.42 1.25 1.21 0.95 1.1  1.16]\n",
      "0.1 0.59 0.38 [1.39 1.69 0.97 1.42 1.26 1.21 0.96 1.11 1.17]\n",
      "0.9 0.67 0.34 [1.4  1.69 0.98 1.43 1.27 1.22 0.96 1.12 1.17]\n",
      "0.9 0.67 0.34 [1.41 1.7  0.99 1.44 1.28 1.23 0.97 1.12 1.18]\n",
      "0.9 0.67 0.34 [1.41 1.71 1.   1.45 1.29 1.24 0.98 1.13 1.19]\n",
      "0.9 0.68 0.34 [1.42 1.72 1.01 1.46 1.29 1.25 0.98 1.14 1.2 ]\n",
      "0.9 0.68 0.34 [1.43 1.72 1.01 1.46 1.3  1.25 0.99 1.14 1.2 ]\n",
      "0.1 0.59 0.39 [1.44 1.73 1.02 1.47 1.31 1.26 1.   1.15 1.21]\n",
      "0.9 0.68 0.34 [1.45 1.74 1.03 1.48 1.32 1.27 1.01 1.16 1.22]\n",
      "0.9 0.68 0.34 [1.45 1.75 1.04 1.49 1.33 1.28 1.01 1.16 1.22]\n",
      "0.9 0.68 0.34 [1.46 1.75 1.04 1.5  1.33 1.29 1.02 1.17 1.23]\n",
      "0.9 0.68 0.34 [1.47 1.76 1.05 1.51 1.34 1.3  1.03 1.18 1.24]\n",
      "0.9 0.68 0.34 [1.48 1.77 1.06 1.52 1.35 1.31 1.03 1.18 1.24]\n",
      "0.9 0.68 0.34 [1.49 1.78 1.07 1.52 1.36 1.31 1.04 1.19 1.25]\n",
      "0.1 0.6 0.39 [1.49 1.78 1.08 1.53 1.37 1.32 1.05 1.2  1.26]\n",
      "0.9 0.69 0.34 [1.5  1.79 1.08 1.54 1.38 1.33 1.06 1.21 1.27]\n",
      "0.1 0.6 0.39 [1.51 1.8  1.09 1.55 1.38 1.34 1.06 1.21 1.27]\n",
      "0.1 0.6 0.39 [1.52 1.81 1.1  1.56 1.39 1.35 1.07 1.22 1.28]\n",
      "0.1 0.6 0.39 [1.53 1.82 1.11 1.57 1.4  1.36 1.08 1.23 1.29]\n",
      "0.1 0.6 0.39 [1.53 1.83 1.12 1.58 1.41 1.37 1.09 1.24 1.3 ]\n",
      "0.1 0.6 0.39 [1.54 1.84 1.13 1.59 1.42 1.38 1.09 1.25 1.3 ]\n",
      "0.9 0.69 0.34 [1.55 1.84 1.13 1.59 1.43 1.38 1.1  1.25 1.31]\n",
      "0.1 0.6 0.39 [1.56 1.85 1.14 1.6  1.44 1.39 1.11 1.26 1.32]\n",
      "0.9 0.69 0.34 [1.57 1.86 1.15 1.61 1.45 1.4  1.12 1.27 1.33]\n",
      "0.9 0.69 0.34 [1.58 1.87 1.16 1.62 1.46 1.41 1.12 1.28 1.33]\n",
      "0.1 0.61 0.39 [1.59 1.88 1.17 1.63 1.47 1.42 1.13 1.28 1.34]\n",
      "0.1 0.61 0.39 [1.59 1.89 1.18 1.64 1.48 1.43 1.14 1.29 1.35]\n",
      "0.1 0.61 0.39 [1.6  1.9  1.19 1.65 1.49 1.44 1.15 1.3  1.36]\n",
      "0.9 0.7 0.34 [1.61 1.91 1.2  1.66 1.5  1.45 1.16 1.31 1.37]\n",
      "0.9 0.7 0.34 [1.62 1.91 1.2  1.67 1.51 1.46 1.16 1.32 1.37]\n",
      "0.9 0.7 0.34 [1.63 1.92 1.21 1.68 1.51 1.47 1.17 1.32 1.38]\n",
      "0.9 0.7 0.34 [1.64 1.93 1.22 1.69 1.52 1.48 1.18 1.33 1.39]\n",
      "0.1 0.61 0.39 [1.65 1.94 1.23 1.7  1.53 1.49 1.19 1.34 1.4 ]\n",
      "0.1 0.61 0.39 [1.66 1.95 1.24 1.71 1.54 1.5  1.2  1.35 1.41]\n",
      "0.9 0.71 0.34 [1.67 1.96 1.25 1.72 1.55 1.51 1.2  1.36 1.41]\n",
      "0.9 0.71 0.34 [1.68 1.97 1.26 1.73 1.56 1.52 1.21 1.36 1.42]\n",
      "0.9 0.71 0.34 [1.68 1.98 1.27 1.74 1.57 1.53 1.22 1.37 1.43]\n",
      "0.9 0.71 0.34 [1.69 1.98 1.28 1.75 1.58 1.54 1.23 1.38 1.44]\n",
      "0.9 0.71 0.34 [1.7  1.99 1.29 1.76 1.59 1.55 1.24 1.39 1.45]\n",
      "0.9 0.71 0.34 [1.71 2.   1.3  1.77 1.6  1.56 1.25 1.4  1.46]\n",
      "0.9 0.71 0.34 [1.72 2.01 1.3  1.78 1.61 1.57 1.26 1.4  1.47]\n",
      "0.9 0.71 0.34 [1.73 2.02 1.31 1.79 1.62 1.58 1.26 1.41 1.47]\n",
      "0.1 0.62 0.39 [1.74 2.03 1.32 1.8  1.63 1.59 1.27 1.42 1.48]\n",
      "0.1 0.62 0.39 [1.75 2.04 1.33 1.81 1.64 1.6  1.28 1.43 1.49]\n",
      "0.1 0.62 0.39 [1.76 2.05 1.34 1.82 1.65 1.61 1.29 1.44 1.5 ]\n",
      "0.1 0.62 0.39 [1.77 2.06 1.35 1.83 1.66 1.62 1.3  1.45 1.51]\n",
      "0.1 0.62 0.39 [1.78 2.07 1.36 1.84 1.67 1.63 1.31 1.46 1.52]\n",
      "0.9 0.72 0.34 [1.79 2.08 1.37 1.85 1.68 1.64 1.32 1.47 1.53]\n",
      "0.1 0.62 0.39 [1.8  2.09 1.38 1.86 1.69 1.65 1.33 1.48 1.54]\n",
      "0.9 0.72 0.34 [1.81 2.1  1.39 1.87 1.7  1.66 1.34 1.49 1.55]\n",
      "0.9 0.72 0.34 [1.82 2.11 1.4  1.88 1.71 1.67 1.34 1.5  1.56]\n",
      "0.9 0.72 0.34 [1.83 2.12 1.41 1.89 1.72 1.68 1.35 1.5  1.56]\n",
      "0.9 0.73 0.34 [1.84 2.13 1.42 1.9  1.73 1.69 1.36 1.51 1.57]\n",
      "0.1 0.62 0.39 [1.85 2.14 1.43 1.91 1.75 1.7  1.37 1.52 1.58]\n",
      "0.1 0.62 0.39 [1.86 2.15 1.44 1.92 1.76 1.71 1.38 1.53 1.59]\n",
      "0.1 0.63 0.39 [1.87 2.16 1.45 1.93 1.77 1.72 1.39 1.54 1.6 ]\n",
      "0.1 0.63 0.39 [1.88 2.18 1.46 1.94 1.78 1.73 1.4  1.55 1.61]\n",
      "0.9 0.73 0.33 [1.89 2.19 1.47 1.95 1.79 1.74 1.41 1.56 1.62]\n",
      "0.1 0.63 0.39 [1.9  2.2  1.48 1.97 1.8  1.76 1.42 1.57 1.63]\n",
      "0.9 0.73 0.33 [1.91 2.21 1.5  1.98 1.81 1.77 1.43 1.58 1.64]\n",
      "0.9 0.74 0.33 [1.92 2.22 1.51 1.99 1.82 1.78 1.44 1.59 1.65]\n",
      "0.1 0.63 0.39 [1.93 2.23 1.52 2.   1.84 1.79 1.45 1.6  1.66]\n",
      "0.1 0.63 0.39 [1.94 2.24 1.53 2.01 1.85 1.8  1.46 1.61 1.67]\n",
      "0.1 0.63 0.39 [1.96 2.25 1.54 2.02 1.86 1.81 1.47 1.62 1.68]\n",
      "0.1 0.63 0.39 [1.97 2.26 1.55 2.03 1.87 1.82 1.48 1.64 1.69]\n",
      "0.9 0.74 0.33 [1.98 2.27 1.56 2.05 1.89 1.84 1.49 1.65 1.7 ]\n",
      "0.1 0.63 0.39 [1.99 2.29 1.57 2.06 1.9  1.85 1.5  1.66 1.71]\n",
      "0.1 0.63 0.39 [2.   2.3  1.58 2.07 1.91 1.86 1.51 1.67 1.72]\n",
      "0.9 0.75 0.33 [2.01 2.31 1.59 2.08 1.92 1.87 1.52 1.68 1.73]\n",
      "0.1 0.64 0.39 [2.02 2.32 1.6  2.09 1.93 1.88 1.53 1.69 1.74]\n",
      "0.9 0.75 0.33 [2.03 2.33 1.62 2.1  1.95 1.89 1.54 1.7  1.75]\n",
      "0.1 0.64 0.4 [2.04 2.35 1.63 2.12 1.96 1.91 1.55 1.71 1.76]\n",
      "0.1 0.64 0.4 [2.06 2.36 1.64 2.13 1.97 1.92 1.56 1.72 1.77]\n",
      "0.9 0.75 0.33 [2.07 2.37 1.65 2.14 1.98 1.93 1.57 1.73 1.78]\n"
     ]
    },
    {
     "name": "stdout",
     "output_type": "stream",
     "text": [
      "0.1 0.64 0.4 [2.08 2.38 1.66 2.15 2.   1.94 1.58 1.74 1.79]\n",
      "0.1 0.64 0.4 [2.09 2.39 1.67 2.16 2.01 1.95 1.59 1.76 1.81]\n",
      "0.9 0.76 0.33 [2.1  2.41 1.69 2.18 2.02 1.97 1.61 1.77 1.82]\n",
      "0.9 0.76 0.33 [2.11 2.42 1.7  2.19 2.03 1.98 1.62 1.78 1.83]\n",
      "0.9 0.76 0.33 [2.13 2.43 1.71 2.2  2.05 1.99 1.63 1.79 1.84]\n",
      "0.1 0.64 0.4 [2.14 2.44 1.72 2.21 2.06 2.   1.64 1.8  1.85]\n",
      "0.9 0.76 0.33 [2.15 2.45 1.73 2.23 2.07 2.02 1.65 1.81 1.86]\n",
      "0.1 0.65 0.4 [2.16 2.47 1.74 2.24 2.09 2.03 1.66 1.82 1.87]\n",
      "0.9 0.76 0.33 [2.17 2.48 1.76 2.25 2.1  2.04 1.67 1.83 1.88]\n",
      "0.9 0.76 0.33 [2.19 2.49 1.77 2.26 2.11 2.05 1.68 1.84 1.89]\n",
      "0.1 0.65 0.4 [2.2  2.5  1.78 2.28 2.12 2.07 1.7  1.86 1.91]\n",
      "0.1 0.65 0.4 [2.21 2.52 1.79 2.29 2.14 2.08 1.71 1.87 1.92]\n",
      "0.9 0.77 0.33 [2.22 2.53 1.81 2.3  2.15 2.09 1.72 1.88 1.93]\n",
      "0.9 0.77 0.33 [2.24 2.54 1.82 2.32 2.16 2.11 1.73 1.89 1.94]\n",
      "0.9 0.77 0.33 [2.25 2.55 1.83 2.33 2.17 2.12 1.74 1.9  1.95]\n",
      "0.9 0.77 0.33 [2.26 2.56 1.84 2.34 2.19 2.13 1.75 1.91 1.96]\n",
      "0.9 0.77 0.33 [2.27 2.57 1.86 2.36 2.2  2.15 1.77 1.92 1.98]\n",
      "0.9 0.77 0.33 [2.29 2.59 1.87 2.37 2.21 2.16 1.78 1.93 1.99]\n",
      "0.9 0.78 0.33 [2.3  2.6  1.88 2.38 2.22 2.17 1.79 1.95 2.  ]\n",
      "0.1 0.66 0.4 [2.31 2.61 1.9  2.4  2.24 2.19 1.8  1.96 2.01]\n",
      "0.9 0.78 0.33 [2.32 2.62 1.91 2.41 2.25 2.2  1.81 1.97 2.02]\n",
      "0.9 0.78 0.33 [2.34 2.64 1.92 2.42 2.27 2.21 1.83 1.98 2.04]\n",
      "0.9 0.78 0.33 [2.35 2.65 1.93 2.44 2.28 2.23 1.84 1.99 2.05]\n",
      "0.9 0.78 0.33 [2.36 2.66 1.95 2.45 2.29 2.24 1.85 2.01 2.06]\n",
      "0.1 0.66 0.4 [2.38 2.68 1.96 2.47 2.31 2.26 1.86 2.02 2.07]\n",
      "0.9 0.78 0.33 [2.39 2.69 1.97 2.48 2.32 2.27 1.88 2.03 2.09]\n",
      "0.9 0.79 0.33 [2.4  2.7  1.99 2.49 2.33 2.28 1.89 2.04 2.1 ]\n",
      "0.1 0.66 0.4 [2.42 2.72 2.   2.51 2.35 2.3  1.9  2.06 2.11]\n",
      "0.1 0.66 0.4 [2.43 2.73 2.02 2.52 2.37 2.31 1.91 2.07 2.12]\n",
      "0.9 0.79 0.33 [2.45 2.75 2.03 2.54 2.38 2.33 1.93 2.08 2.14]\n",
      "0.1 0.67 0.4 [2.46 2.76 2.04 2.55 2.4  2.34 1.94 2.1  2.15]\n",
      "0.9 0.79 0.33 [2.47 2.77 2.06 2.57 2.41 2.36 1.95 2.11 2.16]\n",
      "0.1 0.67 0.4 [2.49 2.79 2.07 2.58 2.43 2.37 1.97 2.13 2.18]\n",
      "0.9 0.8 0.33 [2.5  2.8  2.08 2.59 2.44 2.38 1.98 2.14 2.19]\n",
      "0.9 0.8 0.33 [2.52 2.82 2.1  2.61 2.45 2.4  1.99 2.15 2.2 ]\n",
      "0.1 0.67 0.4 [2.53 2.83 2.11 2.62 2.47 2.41 2.01 2.17 2.22]\n",
      "0.1 0.67 0.4 [2.54 2.85 2.13 2.64 2.49 2.43 2.02 2.18 2.23]\n",
      "0.9 0.8 0.33 [2.56 2.86 2.14 2.65 2.5  2.44 2.03 2.2  2.24]\n",
      "0.9 0.8 0.33 [2.57 2.88 2.16 2.67 2.52 2.46 2.05 2.21 2.26]\n",
      "0.9 0.8 0.33 [2.59 2.89 2.17 2.68 2.53 2.47 2.06 2.22 2.27]\n",
      "0.9 0.8 0.33 [2.6  2.9  2.19 2.7  2.54 2.49 2.07 2.23 2.28]\n",
      "0.9 0.81 0.33 [2.62 2.92 2.2  2.72 2.56 2.51 2.09 2.25 2.3 ]\n",
      "0.9 0.81 0.33 [2.63 2.93 2.21 2.73 2.57 2.52 2.1  2.26 2.31]\n",
      "0.9 0.81 0.33 [2.65 2.95 2.23 2.75 2.59 2.54 2.12 2.27 2.33]\n",
      "0.1 0.68 0.41 [2.66 2.96 2.24 2.76 2.61 2.55 2.13 2.29 2.34]\n",
      "0.1 0.68 0.41 [2.68 2.98 2.26 2.78 2.62 2.57 2.14 2.31 2.36]\n",
      "0.1 0.68 0.41 [2.69 3.   2.28 2.79 2.64 2.58 2.16 2.32 2.37]\n",
      "0.1 0.68 0.41 [2.71 3.02 2.29 2.81 2.66 2.6  2.17 2.34 2.38]\n",
      "0.9 0.82 0.33 [2.72 3.03 2.31 2.83 2.68 2.62 2.19 2.35 2.4 ]\n",
      "0.1 0.68 0.41 [2.74 3.05 2.32 2.84 2.7  2.63 2.2  2.37 2.41]\n",
      "0.1 0.68 0.41 [2.75 3.07 2.34 2.86 2.71 2.65 2.22 2.39 2.43]\n",
      "0.9 0.82 0.33 [2.77 3.08 2.35 2.87 2.73 2.66 2.23 2.4  2.44]\n",
      "0.9 0.82 0.33 [2.79 3.1  2.37 2.89 2.74 2.68 2.25 2.42 2.46]\n",
      "0.9 0.82 0.33 [2.8  3.11 2.38 2.91 2.76 2.7  2.26 2.43 2.47]\n",
      "0.1 0.69 0.41 [2.82 3.13 2.4  2.92 2.78 2.71 2.28 2.45 2.49]\n",
      "0.1 0.69 0.41 [2.83 3.15 2.42 2.94 2.8  2.73 2.29 2.47 2.5 ]\n",
      "0.9 0.83 0.33 [2.85 3.17 2.43 2.96 2.82 2.75 2.31 2.48 2.52]\n",
      "0.9 0.83 0.33 [2.87 3.18 2.45 2.97 2.83 2.76 2.32 2.5  2.53]\n",
      "0.1 0.69 0.41 [2.88 3.2  2.46 2.99 2.85 2.78 2.34 2.51 2.55]\n",
      "0.1 0.69 0.41 [2.9  3.22 2.48 3.01 2.87 2.8  2.35 2.53 2.56]\n",
      "0.1 0.7 0.41 [2.91 3.24 2.5  3.03 2.89 2.82 2.37 2.55 2.58]\n",
      "0.9 0.83 0.33 [2.93 3.26 2.51 3.04 2.91 2.83 2.39 2.57 2.6 ]\n",
      "0.1 0.7 0.41 [2.95 3.28 2.53 3.06 2.93 2.85 2.4  2.59 2.61]\n",
      "0.1 0.7 0.41 [2.96 3.3  2.55 3.08 2.95 2.87 2.42 2.6  2.63]\n",
      "0.9 0.84 0.33 [2.98 3.31 2.56 3.1  2.97 2.89 2.43 2.62 2.64]\n",
      "0.1 0.7 0.41 [3.   3.33 2.58 3.11 2.99 2.9  2.45 2.64 2.66]\n",
      "0.9 0.84 0.33 [3.02 3.35 2.6  3.13 3.01 2.92 2.47 2.65 2.68]\n",
      "0.1 0.7 0.41 [3.03 3.37 2.62 3.15 3.03 2.94 2.48 2.67 2.69]\n",
      "0.1 0.7 0.41 [3.05 3.39 2.63 3.17 3.05 2.96 2.5  2.69 2.71]\n",
      "0.9 0.84 0.33 [3.07 3.41 2.65 3.19 3.07 2.98 2.52 2.71 2.73]\n",
      "0.9 0.85 0.33 [3.09 3.42 2.67 3.2  3.08 2.99 2.53 2.73 2.74]\n",
      "0.1 0.71 0.42 [3.1  3.45 2.69 3.22 3.11 3.01 2.55 2.75 2.76]\n",
      "0.9 0.85 0.33 [3.12 3.46 2.7  3.24 3.12 3.03 2.57 2.76 2.78]\n",
      "0.9 0.85 0.33 [3.14 3.48 2.72 3.26 3.14 3.05 2.58 2.78 2.79]\n",
      "0.9 0.85 0.33 [3.16 3.5  2.74 3.28 3.16 3.07 2.6  2.79 2.81]\n",
      "0.9 0.85 0.33 [3.17 3.51 2.76 3.3  3.18 3.09 2.62 2.81 2.83]\n",
      "0.9 0.85 0.33 [3.19 3.53 2.78 3.32 3.2  3.11 2.63 2.83 2.85]\n",
      "0.1 0.71 0.42 [3.21 3.55 2.79 3.34 3.22 3.13 2.65 2.85 2.86]\n",
      "0.9 0.86 0.33 [3.23 3.57 2.81 3.36 3.24 3.15 2.67 2.87 2.88]\n",
      "0.1 0.72 0.42 [3.25 3.59 2.83 3.37 3.26 3.16 2.69 2.89 2.9 ]\n",
      "0.9 0.86 0.33 [3.27 3.61 2.85 3.39 3.28 3.18 2.71 2.9  2.92]\n",
      "0.1 0.72 0.42 [3.29 3.63 2.87 3.41 3.3  3.2  2.72 2.93 2.93]\n",
      "0.1 0.72 0.42 [3.3  3.66 2.89 3.43 3.33 3.22 2.74 2.95 2.95]\n",
      "0.1 0.72 0.42 [3.32 3.68 2.91 3.45 3.35 3.24 2.76 2.97 2.97]\n",
      "0.1 0.72 0.42 [3.34 3.71 2.93 3.47 3.38 3.26 2.78 2.99 2.99]\n",
      "0.1 0.72 0.42 [3.36 3.73 2.94 3.49 3.4  3.28 2.8  3.02 3.01]\n",
      "0.9 0.87 0.33 [3.38 3.75 2.96 3.51 3.42 3.3  2.81 3.04 3.03]\n",
      "0.9 0.87 0.33 [3.4  3.77 2.98 3.53 3.44 3.32 2.83 3.05 3.04]\n",
      "0.9 0.87 0.33 [3.42 3.79 3.   3.55 3.46 3.34 2.85 3.07 3.06]\n",
      "0.9 0.87 0.33 [3.44 3.8  3.02 3.58 3.48 3.37 2.87 3.09 3.08]\n",
      "0.1 0.73 0.42 [3.46 3.83 3.04 3.6  3.51 3.39 2.89 3.11 3.1 ]\n",
      "0.9 0.87 0.33 [3.48 3.85 3.06 3.62 3.53 3.41 2.91 3.13 3.12]\n",
      "0.1 0.73 0.42 [3.5  3.87 3.08 3.64 3.55 3.43 2.93 3.16 3.14]\n",
      "0.9 0.88 0.33 [3.52 3.89 3.1  3.66 3.57 3.45 2.95 3.17 3.16]\n",
      "0.9 0.88 0.33 [3.54 3.91 3.12 3.68 3.59 3.47 2.97 3.19 3.18]\n",
      "0.1 0.74 0.43 [3.56 3.94 3.14 3.7  3.62 3.49 2.99 3.22 3.2 ]\n",
      "0.1 0.74 0.43 [3.58 3.97 3.16 3.72 3.65 3.51 3.01 3.24 3.22]\n",
      "0.1 0.74 0.43 [3.6  3.99 3.18 3.74 3.68 3.53 3.03 3.27 3.24]\n",
      "0.1 0.74 0.43 [3.62 4.02 3.2  3.77 3.7  3.56 3.05 3.29 3.26]\n",
      "0.1 0.74 0.43 [3.64 4.05 3.23 3.79 3.73 3.58 3.07 3.32 3.28]\n",
      "0.1 0.74 0.43 [3.66 4.07 3.25 3.81 3.76 3.6  3.09 3.35 3.3 ]\n",
      "0.1 0.74 0.43 [3.68 4.1  3.27 3.83 3.79 3.62 3.11 3.37 3.32]\n",
      "0.9 0.89 0.33 [3.71 4.12 3.29 3.86 3.81 3.65 3.13 3.39 3.34]\n",
      "0.1 0.75 0.43 [3.73 4.15 3.31 3.88 3.84 3.67 3.15 3.42 3.36]\n",
      "0.9 0.89 0.33 [3.75 4.17 3.33 3.9  3.86 3.69 3.17 3.44 3.38]\n",
      "0.1 0.75 0.43 [3.77 4.2  3.35 3.92 3.89 3.71 3.19 3.47 3.4 ]\n",
      "0.1 0.75 0.43 [3.79 4.23 3.38 3.95 3.92 3.74 3.21 3.49 3.42]\n",
      "0.1 0.75 0.43 [3.81 4.26 3.4  3.97 3.95 3.76 3.23 3.52 3.44]\n",
      "0.1 0.75 0.43 [3.84 4.29 3.42 3.99 3.98 3.78 3.25 3.55 3.46]\n",
      "0.9 0.9 0.33 [3.86 4.31 3.44 4.02 4.01 3.81 3.27 3.57 3.48]\n",
      "0.1 0.76 0.43 [3.88 4.34 3.46 4.04 4.04 3.83 3.29 3.6  3.5 ]\n",
      "0.9 0.9 0.33 [3.9  4.36 3.49 4.07 4.06 3.86 3.32 3.62 3.53]\n",
      "0.1 0.76 0.43 [3.93 4.39 3.51 4.09 4.09 3.88 3.34 3.65 3.55]\n",
      "0.9 0.9 0.33 [3.95 4.41 3.53 4.11 4.12 3.9  3.36 3.67 3.57]\n",
      "0.1 0.76 0.43 [3.97 4.44 3.55 4.14 4.15 3.93 3.38 3.7  3.59]\n",
      "0.9 0.9 0.33 [3.99 4.47 3.58 4.16 4.17 3.95 3.4  3.72 3.61]\n",
      "0.1 0.76 0.44 [4.02 4.5  3.6  4.19 4.21 3.98 3.43 3.75 3.64]\n",
      "0.9 0.91 0.33 [4.04 4.52 3.62 4.21 4.23 4.   3.45 3.78 3.66]\n",
      "0.1 0.77 0.44 [4.06 4.55 3.65 4.24 4.26 4.03 3.47 3.81 3.68]\n",
      "0.9 0.91 0.33 [4.09 4.58 3.67 4.26 4.29 4.05 3.49 3.83 3.7 ]\n",
      "0.9 0.91 0.33 [4.11 4.6  3.69 4.29 4.32 4.08 3.52 3.85 3.73]\n",
      "0.9 0.91 0.33 [4.14 4.62 3.72 4.31 4.34 4.1  3.54 3.88 3.75]\n",
      "0.9 0.91 0.33 [4.16 4.65 3.74 4.34 4.37 4.13 3.56 3.9  3.77]\n",
      "0.1 0.77 0.44 [4.18 4.68 3.77 4.37 4.4  4.16 3.59 3.93 3.8 ]\n",
      "0.1 0.77 0.44 [4.21 4.72 3.79 4.39 4.44 4.18 3.61 3.96 3.82]\n",
      "0.1 0.78 0.44 [4.23 4.75 3.81 4.42 4.47 4.21 3.63 4.   3.84]\n",
      "0.9 0.92 0.33 [4.26 4.78 3.84 4.44 4.5  4.23 3.66 4.02 3.87]\n",
      "0.9 0.92 0.33 [4.28 4.8  3.86 4.47 4.53 4.26 3.68 4.05 3.89]\n",
      "0.9 0.92 0.33 [4.31 4.83 3.89 4.5  4.56 4.29 3.7  4.07 3.92]\n",
      "0.9 0.92 0.33 [4.33 4.85 3.91 4.52 4.58 4.31 3.73 4.1  3.94]\n",
      "0.9 0.92 0.33 [4.36 4.88 3.94 4.55 4.61 4.34 3.75 4.12 3.96]\n",
      "0.9 0.92 0.33 [4.38 4.91 3.96 4.58 4.64 4.37 3.78 4.15 3.99]\n",
      "0.1 0.78 0.45 [4.41 4.94 3.99 4.61 4.68 4.4  3.8  4.18 4.01]\n",
      "0.1 0.79 0.45 [4.43 4.98 4.02 4.63 4.72 4.42 3.83 4.22 4.04]\n",
      "0.1 0.79 0.45 [4.46 5.01 4.04 4.66 4.76 4.45 3.85 4.25 4.06]\n",
      "0.1 0.79 0.45 [4.48 5.05 4.07 4.69 4.8  4.48 3.88 4.29 4.09]\n",
      "0.9 0.93 0.33 [4.51 5.08 4.09 4.72 4.83 4.51 3.9  4.31 4.11]\n",
      "0.1 0.79 0.45 [4.54 5.12 4.12 4.75 4.87 4.54 3.93 4.35 4.14]\n",
      "0.1 0.79 0.45 [4.56 5.16 4.15 4.77 4.91 4.56 3.95 4.39 4.16]\n",
      "0.9 0.93 0.33 [4.59 5.18 4.17 4.8  4.94 4.59 3.98 4.42 4.19]\n",
      "0.1 0.8 0.45 [4.62 5.22 4.2  4.83 4.98 4.62 4.01 4.45 4.22]\n",
      "0.9 0.93 0.33 [4.64 5.25 4.23 4.86 5.01 4.65 4.03 4.48 4.24]\n",
      "0.1 0.8 0.45 [4.67 5.29 4.25 4.89 5.05 4.68 4.06 4.52 4.27]\n",
      "0.9 0.94 0.33 [4.7  5.32 4.28 4.92 5.09 4.71 4.08 4.55 4.29]\n",
      "0.1 0.8 0.45 [4.73 5.36 4.31 4.95 5.13 4.74 4.11 4.59 4.32]\n",
      "0.9 0.94 0.33 [4.75 5.39 4.34 4.98 5.16 4.77 4.14 4.62 4.35]\n",
      "0.1 0.8 0.45 [4.78 5.43 4.36 5.01 5.21 4.8  4.16 4.66 4.37]\n",
      "0.1 0.81 0.46 [4.81 5.48 4.39 5.04 5.25 4.83 4.19 4.7  4.4 ]\n",
      "0.9 0.94 0.33 [4.84 5.51 4.42 5.07 5.29 4.86 4.22 4.73 4.43]\n",
      "0.9 0.94 0.33 [4.86 5.54 4.45 5.1  5.32 4.89 4.25 4.76 4.46]\n",
      "0.1 0.81 0.46 [4.89 5.58 4.48 5.14 5.37 4.93 4.27 4.8  4.48]\n",
      "0.9 0.94 0.33 [4.92 5.62 4.5  5.17 5.4  4.96 4.3  4.83 4.51]\n",
      "0.9 0.95 0.33 [4.95 5.65 4.53 5.2  5.44 4.99 4.33 4.86 4.54]\n",
      "0.1 0.82 0.46 [4.98 5.69 4.56 5.23 5.49 5.02 4.36 4.91 4.57]\n",
      "0.9 0.95 0.33 [5.01 5.73 4.59 5.26 5.52 5.05 4.39 4.94 4.6 ]\n",
      "0.1 0.82 0.46 [5.04 5.77 4.62 5.3  5.57 5.09 4.41 4.98 4.62]\n",
      "0.9 0.95 0.33 [5.07 5.81 4.65 5.33 5.61 5.12 4.44 5.02 4.65]\n",
      "0.9 0.95 0.33 [5.1  5.84 4.68 5.36 5.65 5.15 4.47 5.05 4.68]\n",
      "0.9 0.95 0.33 [5.13 5.88 4.71 5.39 5.69 5.18 4.5  5.08 4.71]\n",
      "0.1 0.82 0.46 [5.16 5.92 4.74 5.43 5.74 5.22 4.53 5.13 4.74]\n",
      "0.9 0.95 0.33 [5.19 5.96 4.77 5.46 5.78 5.25 4.56 5.17 4.77]\n",
      "0.1 0.83 0.47 [5.22 6.01 4.8  5.49 5.83 5.28 4.59 5.21 4.8 ]\n",
      "0.1 0.83 0.47 [5.25 6.06 4.83 5.53 5.89 5.32 4.62 5.26 4.83]\n",
      "0.9 0.96 0.33 [5.28 6.09 4.86 5.56 5.93 5.35 4.65 5.3  4.86]\n",
      "0.1 0.83 0.47 [5.31 6.14 4.89 5.6  5.98 5.39 4.68 5.35 4.89]\n",
      "0.9 0.96 0.33 [5.34 6.18 4.92 5.63 6.03 5.42 4.71 5.38 4.92]\n",
      "0.9 0.96 0.33 [5.37 6.22 4.96 5.67 6.07 5.46 4.74 5.42 4.95]\n",
      "0.1 0.84 0.47 [5.4  6.27 4.99 5.7  6.13 5.49 4.77 5.47 4.98]\n",
      "0.1 0.84 0.47 [5.44 6.33 5.02 5.74 6.19 5.53 4.8  5.52 5.01]\n",
      "0.1 0.84 0.47 [5.47 6.38 5.05 5.77 6.24 5.56 4.83 5.57 5.04]\n",
      "0.9 0.96 0.33 [5.5  6.42 5.08 5.81 6.29 5.6  4.86 5.61 5.07]\n",
      "0.9 0.96 0.33 [5.53 6.46 5.12 5.85 6.34 5.64 4.9  5.65 5.11]\n",
      "0.9 0.96 0.33 [5.56 6.51 5.15 5.88 6.38 5.67 4.93 5.7  5.14]\n",
      "0.9 0.96 0.33 [5.6  6.55 5.18 5.92 6.43 5.71 4.96 5.74 5.17]\n",
      "0.1 0.85 0.48 [5.63 6.6  5.21 5.96 6.5  5.75 4.99 5.79 5.2 ]\n",
      "0.1 0.85 0.48 [5.66 6.66 5.25 6.   6.56 5.79 5.02 5.85 5.23]\n",
      "0.1 0.85 0.48 [5.7  6.72 5.28 6.04 6.63 5.83 5.06 5.9  5.27]\n",
      "0.1 0.85 0.48 [5.73 6.78 5.31 6.07 6.69 5.86 5.09 5.96 5.3 ]\n",
      "0.1 0.85 0.48 [5.76 6.84 5.35 6.11 6.76 5.9  5.12 6.02 5.33]\n",
      "0.9 0.97 0.33 [5.8  6.89 5.38 6.15 6.81 5.94 5.15 6.06 5.37]\n",
      "0.1 0.86 0.48 [5.83 6.95 5.42 6.19 6.88 5.98 5.19 6.12 5.4 ]\n",
      "0.9 0.97 0.33 [5.87 7.   5.45 6.23 6.94 6.02 5.22 6.17 5.43]\n",
      "0.1 0.86 0.49 [5.9  7.06 5.48 6.27 7.01 6.06 5.26 6.23 5.47]\n",
      "0.9 0.97 0.33 [5.94 7.11 5.52 6.31 7.07 6.1  5.29 6.28 5.5 ]\n",
      "0.1 0.86 0.49 [5.97 7.17 5.55 6.35 7.14 6.14 5.32 6.34 5.53]\n",
      "Epoch: 1\n",
      "0.9 0.97 0.33 [6.01 7.23 5.59 6.39 7.2  6.18 5.36 6.4  5.57]\n",
      "0.1 0.87 0.49 [6.04 7.29 5.63 6.44 7.28 6.23 5.39 6.46 5.6 ]\n",
      "0.9 0.97 0.33 [6.08 7.35 5.66 6.48 7.34 6.27 5.43 6.51 5.64]\n",
      "0.1 0.87 0.49 [6.11 7.41 5.7  6.52 7.42 6.31 5.46 6.58 5.67]\n",
      "0.9 0.98 0.33 [6.15 7.47 5.73 6.56 7.49 6.35 5.5  6.63 5.71]\n",
      "0.1 0.87 0.5 [6.19 7.54 5.77 6.61 7.57 6.4  5.53 6.7  5.74]\n",
      "0.9 0.98 0.33 [6.22 7.6  5.81 6.65 7.64 6.44 5.57 6.76 5.78]\n",
      "0.1 0.88 0.5 [6.26 7.67 5.84 6.69 7.72 6.48 5.61 6.83 5.82]\n",
      "0.9 0.98 0.33 [6.3  7.73 5.88 6.74 7.79 6.53 5.64 6.89 5.85]\n",
      "0.1 0.88 0.5 [6.33 7.81 5.92 6.78 7.88 6.57 5.68 6.96 5.89]\n",
      "0.1 0.88 0.5 [6.37 7.88 5.96 6.83 7.97 6.62 5.72 7.04 5.93]\n",
      "0.9 0.98 0.33 [6.41 7.95 5.99 6.87 8.05 6.66 5.75 7.1  5.96]\n",
      "0.9 0.98 0.33 [6.45 8.02 6.03 6.92 8.13 6.71 5.79 7.16 6.  ]\n",
      "0.1 0.88 0.51 [6.49 8.09 6.07 6.97 8.22 6.76 5.83 7.24 6.04]\n",
      "0.9 0.98 0.34 [6.53 8.17 6.11 7.01 8.31 6.8  5.86 7.31 6.08]\n",
      "0.9 0.98 0.34 [6.56 8.24 6.15 7.06 8.39 6.85 5.9  7.38 6.11]\n",
      "0.9 0.98 0.34 [6.6  8.31 6.19 7.11 8.48 6.9  5.94 7.45 6.15]\n",
      "0.1 0.89 0.51 [6.64 8.4  6.23 7.16 8.59 6.95 5.98 7.53 6.19]\n",
      "0.1 0.89 0.51 [6.68 8.48 6.26 7.21 8.69 7.   6.02 7.62 6.23]\n",
      "0.1 0.89 0.52 [6.72 8.57 6.3  7.26 8.8  7.05 6.06 7.7  6.27]\n",
      "0.9 0.99 0.34 [6.76 8.65 6.34 7.31 8.9  7.1  6.1  7.78 6.31]\n",
      "0.1 0.9 0.52 [6.8  8.74 6.39 7.36 9.01 7.15 6.14 7.87 6.35]\n",
      "0.1 0.9 0.52 [6.84 8.83 6.43 7.41 9.13 7.2  6.18 7.96 6.39]\n",
      "0.9 0.99 0.34 [6.88 8.92 6.47 7.46 9.24 7.25 6.22 8.05 6.43]\n",
      "0.9 0.99 0.34 [6.92 9.02 6.51 7.51 9.35 7.3  6.26 8.14 6.47]\n",
      "0.9 0.99 0.34 [6.97 9.11 6.55 7.57 9.47 7.36 6.3  8.23 6.51]\n",
      "0.1 0.91 0.53 [7.01 9.21 6.59 7.62 9.6  7.41 6.34 8.33 6.55]\n",
      "0.9 0.99 0.34 [7.05 9.31 6.63 7.67 9.73 7.46 6.38 8.43 6.59]\n",
      "0.9 0.99 0.34 [7.09 9.42 6.67 7.73 9.86 7.52 6.42 8.53 6.63]\n",
      "0.1 0.91 0.53 [ 7.13  9.52  6.72  7.79 10.    7.58  6.46  8.63  6.67]\n",
      "0.9 0.99 0.34 [ 7.18  9.64  6.76  7.84 10.15  7.63  6.5   8.75  6.71]\n",
      "0.9 0.99 0.34 [ 7.22  9.75  6.8   7.9  10.3   7.69  6.55  8.86  6.76]\n",
      "0.9 0.99 0.34 [ 7.26  9.88  6.85  7.96 10.46  7.75  6.59  8.98  6.8 ]\n",
      "0.1 0.92 0.54 [ 7.31  9.99  6.89  8.01 10.61  7.8   6.63  9.09  6.84]\n",
      "0.9 0.99 0.34 [ 7.35 10.12  6.93  8.07 10.79  7.86  6.67  9.22  6.88]\n",
      "0.1 0.92 0.54 [ 7.4  10.25  6.98  8.13 10.95  7.92  6.72  9.34  6.93]\n",
      "0.1 0.92 0.55 [ 7.44 10.37  7.02  8.2  11.12  7.99  6.76  9.46  6.97]\n",
      "0.9 0.99 0.34 [ 7.48 10.52  7.07  8.26 11.33  8.05  6.8   9.61  7.02]\n",
      "0.1 0.93 0.55 [ 7.53 10.65  7.11  8.32 11.51  8.11  6.85  9.74  7.06]\n",
      "0.1 0.93 0.55 [ 7.57 10.79  7.16  8.38 11.7   8.17  6.89  9.87  7.1 ]\n",
      "0.1 0.93 0.56 [ 7.62 10.92  7.2   8.45 11.89  8.24  6.94 10.    7.15]\n",
      "0.1 0.93 0.56 [ 7.67 11.07  7.25  8.51 12.09  8.3   6.98 10.14  7.19]\n",
      "0.9 0.99 0.35 [ 7.71 11.26  7.3   8.58 12.37  8.37  7.03 10.33  7.24]\n",
      "0.1 0.94 0.56 [ 7.76 11.41  7.34  8.65 12.58  8.44  7.08 10.48  7.29]\n",
      "0.1 0.94 0.57 [ 7.81 11.56  7.39  8.72 12.81  8.51  7.12 10.63  7.33]\n",
      "0.1 0.94 0.57 [ 7.85 11.72  7.44  8.79 13.04  8.58  7.17 10.78  7.38]\n",
      "0.1 0.94 0.57 [ 7.9  11.89  7.48  8.86 13.29  8.65  7.21 10.94  7.42]\n",
      "0.9 1.0 0.35 [ 7.95 12.15  7.53  8.93 13.68  8.72  7.26 11.2   7.47]\n",
      "0.1 0.94 0.58 [ 8.   12.32  7.58  9.01 13.95  8.8   7.31 11.37  7.52]\n",
      "0.9 1.0 0.35 [ 8.05 12.63  7.63  9.08 14.42  8.87  7.36 11.67  7.57]\n",
      "0.9 1.0 0.35 [ 8.1  12.96  7.68  9.16 14.95  8.95  7.4  12.    7.62]\n",
      "0.1 0.95 0.59 [ 8.14 13.16  7.73  9.24 15.28  9.03  7.45 12.19  7.66]\n",
      "0.1 0.95 0.59 [ 8.19 13.37  7.78  9.32 15.62  9.11  7.5  12.39  7.71]\n",
      "0.9 1.0 0.36 [ 8.24 13.81  7.83  9.4  16.35  9.19  7.55 12.82  7.76]\n",
      "0.1 0.96 0.6 [ 8.29 14.04  7.88  9.49 16.75  9.28  7.6  13.05  7.81]\n",
      "0.1 0.96 0.61 [ 8.35 14.28  7.93  9.58 17.17  9.37  7.65 13.28  7.86]\n",
      "0.9 1.0 0.36 [ 8.4  14.89  7.98  9.67 18.26  9.46  7.7  13.88  7.91]\n",
      "0.9 1.0 0.36 [ 8.45 15.64  8.03  9.76 19.67  9.55  7.75 14.61  7.96]\n",
      "0.9 1.0 0.37 [ 8.5  16.6   8.08  9.86 21.6   9.65  7.8  15.55  8.01]\n",
      "0.9 1.0 0.37 [ 8.55 17.93  8.14  9.97 24.52  9.76  7.85 16.86  8.06]\n",
      "0.9 1.0 0.37 [ 8.61 20.07  8.19 10.09 29.78  9.88  7.91 18.96  8.12]\n",
      "0.9 1.0 0.38 [ 8.66 24.95  8.24 10.22 44.15 10.01  7.96 23.73  8.17]\n",
      "0.1 0.99 0.78 [ 8.71 26.19  8.3  10.41 49.47 10.2   8.01 24.94  8.22]\n",
      "0.1 0.99 0.8 [ 8.77 27.85  8.35 10.61 57.29 10.4   8.07 26.57  8.28]\n",
      "0.9 1.0 0.43 [   8.82  310.43    8.4    10.83 1583.07   10.62    8.12  303.56    8.33]\n",
      "0.1 1.0 inf [ 8.88  -inf  8.46 15.23  -inf 15.02  8.17  -inf  8.38]\n",
      "0.1 1.0\n"
     ]
    },
    {
     "name": "stderr",
     "output_type": "stream",
     "text": [
      "C:\\Users\\user\\Anaconda3\\lib\\site-packages\\ipykernel_launcher.py:6: RuntimeWarning: divide by zero encountered in true_divide\n",
      "  \n",
      "C:\\Users\\user\\Anaconda3\\lib\\site-packages\\ipykernel_launcher.py:2: RuntimeWarning: divide by zero encountered in log\n",
      "  \n"
     ]
    }
   ],
   "source": [
    "np.random.seed(1)\n",
    "\n",
    "ds_train = DataIterator('train', max_count=500)\n",
    "ds_val = DataIterator('validation', max_count=100)\n",
    "\n",
    "nn = NeuralNetwork()\n",
    "scores_by_epoch = nn.fit(ds_train, epochs=2)"
   ]
  },
  {
   "cell_type": "code",
   "execution_count": 565,
   "id": "4899c3d4",
   "metadata": {},
   "outputs": [],
   "source": [
    "import re, json"
   ]
  },
  {
   "cell_type": "code",
   "execution_count": 591,
   "id": "4a108824",
   "metadata": {},
   "outputs": [
    {
     "data": {
      "text/plain": [
       "0.6913987366813323"
      ]
     },
     "execution_count": 591,
     "metadata": {},
     "output_type": "execute_result"
    }
   ],
   "source": [
    "# w = np.array(json.loads(re.sub(r'\\s+', ', ', '[6.72 8.57 6.3  7.26 8.8  7.05 6.06 7.7  6.27]'))).reshape((3, 3))\n",
    "w = np.array([2., 2., .2, 0, 10., 0, 0, 0, 10]).reshape((3, 3))\n",
    "X = np.zeros((3, 3)) + 0.1\n",
    "# X[1, 1] = 0.9\n",
    "# np.dot(X, w)\n",
    "sigmoid(np.dot(X, w).mean())"
   ]
  },
  {
   "cell_type": "code",
   "execution_count": 535,
   "id": "31860ca7",
   "metadata": {},
   "outputs": [
    {
     "data": {
      "text/plain": [
       "[<matplotlib.lines.Line2D at 0x1b7b041df98>]"
      ]
     },
     "execution_count": 535,
     "metadata": {},
     "output_type": "execute_result"
    },
    {
     "data": {
      "image/png": "[encoded data removed]",
      "text/plain": [
       "<Figure size 432x288 with 1 Axes>"
      ]
     },
     "metadata": {
      "needs_background": "light"
     },
     "output_type": "display_data"
    }
   ],
   "source": [
    "plt.plot(scores_by_epoch[0])"
   ]
  },
  {
   "cell_type": "code",
   "execution_count": 550,
   "id": "31634e67",
   "metadata": {},
   "outputs": [
    {
     "data": {
      "text/plain": [
       "array([[0.1, 0.1, 0.1],\n",
       "       [0.1, nan, 0.1],\n",
       "       [0.1, 0.1, 0.1]], dtype=float32)"
      ]
     },
     "execution_count": 550,
     "metadata": {},
     "output_type": "execute_result"
    }
   ],
   "source": [
    "X = np.array([\n",
    "    [0, 0, 0],\n",
    "    [0, 1., 0],\n",
    "    [0, 0, 0]\n",
    "])\n",
    "nn.predict(X)"
   ]
  },
  {
   "cell_type": "code",
   "execution_count": null,
   "id": "ddbb2087",
   "metadata": {},
   "outputs": [],
   "source": []
  },
  {
   "cell_type": "code",
   "execution_count": 98,
   "id": "d619b4e0",
   "metadata": {},
   "outputs": [],
   "source": [
    "import tensorflow as tf\n",
    "from tensorflow import keras\n",
    "from tensorflow.keras import layers"
   ]
  },
  {
   "cell_type": "code",
   "execution_count": 99,
   "id": "7d11256d",
   "metadata": {},
   "outputs": [
    {
     "name": "stdout",
     "output_type": "stream",
     "text": [
      "Model: \"sequential\"\n",
      "_________________________________________________________________\n",
      "Layer (type)                 Output Shape              Param #   \n",
      "=================================================================\n",
      "layer1 (Dense)               (1, 2)                    6         \n",
      "_________________________________________________________________\n",
      "layer3 (Dense)               (1, 1)                    2         \n",
      "=================================================================\n",
      "Total params: 8\n",
      "Trainable params: 8\n",
      "Non-trainable params: 0\n",
      "_________________________________________________________________\n"
     ]
    }
   ],
   "source": [
    "model = keras.Sequential(\n",
    "    [\n",
    "        layers.Dense(2, activation=\"relu\", name=\"layer1\", use_bias=True),\n",
    "        layers.Dense(1, name=\"layer3\", use_bias=False),\n",
    "    ]\n",
    ")\n",
    "model.build(input_shape=(1, 2))\n",
    "model.summary()\n",
    "\n",
    "model.compile(loss='mse', optimizer='adam')"
   ]
  },
  {
   "cell_type": "code",
   "execution_count": 100,
   "id": "21d71f03",
   "metadata": {},
   "outputs": [],
   "source": [
    "class KerasBinaryIterator(BinaryIterator, keras.utils.Sequence):\n",
    "    def on_epoch_end(self):\n",
    "        self.drop()"
   ]
  },
  {
   "cell_type": "code",
   "execution_count": 117,
   "id": "c0be1581",
   "metadata": {},
   "outputs": [
    {
     "name": "stdout",
     "output_type": "stream",
     "text": [
      "Epoch 1/20\n",
      "100/100 [==============================] - 0s 1ms/step - loss: 0.2493 - val_loss: 0.2449\n",
      "Epoch 2/20\n",
      "100/100 [==============================] - 0s 849us/step - loss: 0.2493 - val_loss: 0.2453\n",
      "Epoch 3/20\n",
      "100/100 [==============================] - 0s 884us/step - loss: 0.2496 - val_loss: 0.2452\n",
      "Epoch 4/20\n",
      "100/100 [==============================] - 0s 869us/step - loss: 0.2494 - val_loss: 0.2449\n",
      "Epoch 5/20\n",
      "100/100 [==============================] - 0s 846us/step - loss: 0.2493 - val_loss: 0.2460\n",
      "Epoch 6/20\n",
      "100/100 [==============================] - 0s 854us/step - loss: 0.2496 - val_loss: 0.2461\n",
      "Epoch 7/20\n",
      "100/100 [==============================] - 0s 847us/step - loss: 0.2494 - val_loss: 0.2466\n",
      "Epoch 8/20\n",
      "100/100 [==============================] - 0s 854us/step - loss: 0.2499 - val_loss: 0.2455\n",
      "Epoch 9/20\n",
      "100/100 [==============================] - 0s 852us/step - loss: 0.2491 - val_loss: 0.2447\n",
      "Epoch 10/20\n",
      "100/100 [==============================] - 0s 869us/step - loss: 0.2498 - val_loss: 0.2441\n",
      "Epoch 11/20\n",
      "100/100 [==============================] - 0s 835us/step - loss: 0.2501 - val_loss: 0.2449\n",
      "Epoch 12/20\n",
      "100/100 [==============================] - 0s 864us/step - loss: 0.2493 - val_loss: 0.2447\n",
      "Epoch 13/20\n",
      "100/100 [==============================] - 0s 840us/step - loss: 0.2493 - val_loss: 0.2451\n",
      "Epoch 14/20\n",
      "100/100 [==============================] - 0s 835us/step - loss: 0.2492 - val_loss: 0.2441\n",
      "Epoch 15/20\n",
      "100/100 [==============================] - 0s 859us/step - loss: 0.2492 - val_loss: 0.2446\n",
      "Epoch 16/20\n",
      "100/100 [==============================] - 0s 856us/step - loss: 0.2492 - val_loss: 0.2440\n",
      "Epoch 17/20\n",
      "100/100 [==============================] - 0s 848us/step - loss: 0.2493 - val_loss: 0.2446\n",
      "Epoch 18/20\n",
      "100/100 [==============================] - 0s 867us/step - loss: 0.2505 - val_loss: 0.2437\n",
      "Epoch 19/20\n",
      "100/100 [==============================] - 0s 2ms/step - loss: 0.2494 - val_loss: 0.2448\n",
      "Epoch 20/20\n",
      "100/100 [==============================] - 0s 947us/step - loss: 0.2499 - val_loss: 0.2461\n"
     ]
    },
    {
     "data": {
      "text/plain": [
       "<tensorflow.python.keras.callbacks.History at 0x185c796e240>"
      ]
     },
     "execution_count": 117,
     "metadata": {},
     "output_type": "execute_result"
    }
   ],
   "source": [
    "np.random.seed(6)\n",
    "BATCH_SIZE = 2\n",
    "\n",
    "ds_train = KerasBinaryIterator('train', max_count=200, batch_size=BATCH_SIZE)\n",
    "ds_val = KerasBinaryIterator('validation', max_count=30, batch_size=BATCH_SIZE)\n",
    "\n",
    "class MyCallback(keras.callbacks.Callback):\n",
    "    def on_train_end(self, logs=None):\n",
    "        pass\n",
    "\n",
    "model.fit(ds_train, validation_data=ds_val, epochs=20, batch_size=BATCH_SIZE, callbacks=[MyCallback()])"
   ]
  },
  {
   "cell_type": "code",
   "execution_count": 674,
   "id": "8b6ff035",
   "metadata": {},
   "outputs": [
    {
     "data": {
      "text/plain": [
       "[<tf.Variable 'layer1/kernel:0' shape=(2, 3) dtype=float32, numpy=\n",
       " array([[-0.97023743, -0.340518  ,  0.8038375 ],\n",
       "        [ 0.95850766, -0.11108065, -1.0491995 ]], dtype=float32)>,\n",
       " <tf.Variable 'layer1/bias:0' shape=(3,) dtype=float32, numpy=array([ 0.00898145,  0.        , -0.00559647], dtype=float32)>,\n",
       " <tf.Variable 'layer3/kernel:0' shape=(3, 1) dtype=float32, numpy=\n",
       " array([[1.0310452],\n",
       "        [0.5349878],\n",
       "        [1.2527544]], dtype=float32)>]"
      ]
     },
     "execution_count": 674,
     "metadata": {},
     "output_type": "execute_result"
    }
   ],
   "source": [
    "model.weights"
   ]
  }
 ],
 "metadata": {
  "kernelspec": {
   "display_name": "Python 3",
   "language": "python",
   "name": "python3"
  },
  "language_info": {
   "codemirror_mode": {
    "name": "ipython",
    "version": 3
   },
   "file_extension": ".py",
   "mimetype": "text/x-python",
   "name": "python",
   "nbconvert_exporter": "python",
   "pygments_lexer": "ipython3",
   "version": "3.7.3"
  }
 },
 "nbformat": 4,
 "nbformat_minor": 5
}
